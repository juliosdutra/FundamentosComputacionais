{
  "nbformat": 4,
  "nbformat_minor": 0,
  "metadata": {
    "colab": {
      "provenance": [],
      "authorship_tag": "ABX9TyM6rp+9AC+oB0+b7YGRRlcl",
      "include_colab_link": true
    },
    "kernelspec": {
      "name": "python3",
      "display_name": "Python 3"
    },
    "language_info": {
      "name": "python"
    }
  },
  "cells": [
    {
      "cell_type": "markdown",
      "metadata": {
        "id": "view-in-github",
        "colab_type": "text"
      },
      "source": [
        "<a href=\"https://colab.research.google.com/github/juliosdutra/FundamentosComputacionais/blob/main/Utilidades/Serie_CSTRs.ipynb\" target=\"_parent\"><img src=\"https://colab.research.google.com/assets/colab-badge.svg\" alt=\"Open In Colab\"/></a>"
      ]
    },
    {
      "cell_type": "markdown",
      "source": [
        "**Série de 3 CSTRs em Regime Permanente**\n",
        "\n",
        "Considere um sistema com 3 reatores CSTRs em série, todos operando em regime permanente, com volumes iguais e sob as seguintes condições:\n",
        "\n",
        "* Reação de 1ª ordem: $𝐴 → 𝐵$, com constante cinética $𝑘 = 0.5\\ min^{-1}$\n",
        "* Vazão de alimentação: $𝐹 = 50\\ 𝐿/min⁡$\n",
        "* Volume de cada reator: $𝑉 = 100\\ 𝐿$\n",
        "* Concentração de entrada de A no primeiro reator: $𝐶_{𝐴0}  = 1.0\\  𝑚𝑜𝑙/𝐿$\n",
        "\n",
        "**Objetivo:**\n",
        "\n",
        "\n",
        "1.   Calcular a concentração de $A$ na saída de cada reator ($𝐶_{𝐴1}, 𝐶_{𝐴2}, 𝐶_{𝐴3}$)\n",
        "2.  Determinar a conversão acumulada após cada reator.\n",
        "3.   Simular os reatores para diferentes valores da constante cinética 𝑘.\n",
        "\n",
        "----\n"
      ],
      "metadata": {
        "id": "tQaF4X4lHRES"
      }
    },
    {
      "cell_type": "markdown",
      "source": [
        "**Modelagem do sistema físico**\n",
        "\n",
        "* Reator 1: $F(C_{A0}-C_{A1}) - V_1 k_1 C_{A1} = 0$\n",
        "* Reator 2: $F(C_{A1}-C_{A2}) - V_2 k_2 C_{A2} = 0$\n",
        "* Reator 3: $F(C_{A2}-C_{A3}) - V_2 k_2 C_{A3} = 0$\n",
        "\n",
        "Rearranjando para a concentração de saída de cada reator:\n",
        "* Reator 1: $C_{A1} = \\frac{F}{(F +V_1 k_1)} C_{A0}$\n",
        "* Reator 2: $C_{A2} = \\frac{F}{(F +V_2 k_2)} C_{A1}$\n",
        "* Reator 3: $C_{A3} = \\frac{F}{(F +V_3 k_3)} C_{A2}$\n",
        "\n",
        "\n",
        "**Modelo genérico**\n",
        "$$C_{A_i} = \\frac{F}{(F +V_i k_i)} C_{A_{i-1}}$$"
      ],
      "metadata": {
        "id": "3cg3hTfMIMvv"
      }
    },
    {
      "cell_type": "markdown",
      "source": [
        "**Vamos de definir um @dataclass para conter os parâmetros de cada reator**"
      ],
      "metadata": {
        "id": "_CR8bGUjRvbG"
      }
    },
    {
      "cell_type": "code",
      "execution_count": null,
      "metadata": {
        "id": "6lho_8DgGfp6"
      },
      "outputs": [],
      "source": [
        "from dataclasses import dataclass\n",
        "from typing import Tuple, List\n",
        "\n",
        "@dataclass\n",
        "class CSTR_param:\n",
        "    F: float = 50.0   # Vazão de alimentação (L/min)\n",
        "    V: float = 100.0  # Volume do reator (L)\n",
        "    k: float = 0.5    # Constante cinética de 1ª ordem (1/min)\n",
        "\n",
        "def modelo_CSTR(param: CSTR_param, CA_entrada: float) -> float:\n",
        "    \"\"\"\n",
        "    Modelo de um reator CSTR: calcula concentração de saída.\n",
        "\n",
        "    Parâmetros:\n",
        "        param: objeto com F, V, k do reator\n",
        "        CA_entrada: concentração na entrada (mol/L)\n",
        "\n",
        "    Retorna:\n",
        "        CA_saida: concentração na saída (mol/L)\n",
        "    \"\"\"\n",
        "    return (param.F / (param.F + param.V * param.k)) * CA_entrada\n",
        "\n",
        "def serie_CSTR(param_list: List[CSTR_param], CA_entrada: float) -> Tuple[List[float], List[float]]:\n",
        "    \"\"\"\n",
        "    Simula uma série de reatores CSTR idênticos em regime permanente.\n",
        "\n",
        "    Parâmetros:\n",
        "        param: parâmetros do reator (F, V, k)\n",
        "        CA_entrada: concentração inicial de A (mol/L)\n",
        "        nReatores: número de reatores em série\n",
        "\n",
        "    Retorna:\n",
        "        Lista de concentrações (entrada e saídas)\n",
        "        Lista de conversões acumuladas\n",
        "    \"\"\"\n",
        "    Conc = [CA_entrada]\n",
        "    Conv = []\n",
        "\n",
        "    for param in param_list:\n",
        "        CA_saida = modelo_CSTR(param, CA_entrada)\n",
        "        conversao = 1 - CA_saida / Conc[0]  # conversão em relação a CA0\n",
        "        Conc.append(CA_saida)\n",
        "        Conv.append(conversao)\n",
        "        CA_entrada = CA_saida\n",
        "\n",
        "    return Conc, Conv"
      ]
    },
    {
      "cell_type": "code",
      "source": [
        "param = 3*[CSTR_param()]  # usa os valores padrão\n",
        "CA0 = 1.0\n",
        "conc, conv = serie_CSTR(param, CA0)\n",
        "\n",
        "for i in range(1, len(conc)):\n",
        "    print(f\"Reator {i}: C_A = {conc[i]:.4f} mol/L | Conversão acumulada = {conv[i-1]:.2%}\")"
      ],
      "metadata": {
        "colab": {
          "base_uri": "https://localhost:8080/"
        },
        "id": "sGu65bdHVcWI",
        "outputId": "aaee268e-67c9-42e2-ed4b-4527725d8892"
      },
      "execution_count": null,
      "outputs": [
        {
          "output_type": "stream",
          "name": "stdout",
          "text": [
            "Reator 1: C_A = 0.5000 mol/L | Conversão acumulada = 50.00%\n",
            "Reator 2: C_A = 0.2500 mol/L | Conversão acumulada = 75.00%\n",
            "Reator 3: C_A = 0.1250 mol/L | Conversão acumulada = 87.50%\n"
          ]
        }
      ]
    },
    {
      "cell_type": "code",
      "source": [
        "params = [\n",
        "    CSTR_param(F=50, V=100, k=0.5),\n",
        "    CSTR_param(F=50, V=100, k=0.8),\n",
        "    CSTR_param(F=50, V=100, k=1.5)\n",
        "]\n",
        "\n",
        "CA0 = 1.0\n",
        "conc, conv = serie_CSTR(params, CA0)\n",
        "\n",
        "for i in range(1, len(conc)):\n",
        "    print(f\"Reator {i}: C_A = {conc[i]:.4f} mol/L | Conversão acumulada = {conv[i-1]:.2%}\")"
      ],
      "metadata": {
        "colab": {
          "base_uri": "https://localhost:8080/"
        },
        "id": "nV-CibGtPSX-",
        "outputId": "0bd2d3db-3dfd-45ac-d7e5-e14868b211e0"
      },
      "execution_count": null,
      "outputs": [
        {
          "output_type": "stream",
          "name": "stdout",
          "text": [
            "Reator 1: C_A = 0.5000 mol/L | Conversão acumulada = 50.00%\n",
            "Reator 2: C_A = 0.1923 mol/L | Conversão acumulada = 80.77%\n",
            "Reator 3: C_A = 0.0481 mol/L | Conversão acumulada = 95.19%\n"
          ]
        }
      ]
    }
  ]
}