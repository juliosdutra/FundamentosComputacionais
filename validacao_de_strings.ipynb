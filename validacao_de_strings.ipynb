{
  "nbformat": 4,
  "nbformat_minor": 0,
  "metadata": {
    "colab": {
      "provenance": [],
      "toc_visible": true,
      "authorship_tag": "ABX9TyOCBJuG2DOlSoLVwzpJcrEW",
      "include_colab_link": true
    },
    "kernelspec": {
      "name": "python3",
      "display_name": "Python 3"
    },
    "language_info": {
      "name": "python"
    }
  },
  "cells": [
    {
      "cell_type": "markdown",
      "metadata": {
        "id": "view-in-github",
        "colab_type": "text"
      },
      "source": [
        "<a href=\"https://colab.research.google.com/github/juliosdutra/FundamentosComputacionais/blob/main/validacao_de_strings.ipynb\" target=\"_parent\"><img src=\"https://colab.research.google.com/assets/colab-badge.svg\" alt=\"Open In Colab\"/></a>"
      ]
    },
    {
      "cell_type": "markdown",
      "source": [
        "![image.png](data:image/png;base64,iVBORw0KGgoAAAANSUhEUgAAAn8AAADhCAYAAAC5vdPhAAAAAXNSR0IArs4c6QAAAARnQU1BAACxjwv8YQUAAAAJcEhZcwAADsMAAA7DAcdvqGQAAGCTSURBVHhe7b1fiGPXle//1e++DeM4p8pPJjeEPmoYYw91sU85g+l6iAf7yO1hyJB2pHaMMTjYLeUS8Pi6K1al8QTHbUuTcWAYd0nGA+ESLNXYIWFwlVtucMOVMEl32ahIjC+4jxg8wU9Sy38e7uP5PUTrzDpLex/9KVV1VWl94NDVe++z/6y1/6xzzt5LqTAMQyiKoiiKoihzwf8nAxRFURRFUZSjixp/iqIoiqIoc4Qaf4qiKIqiKHOEGn+KoiiKoihzhBp/iqIoiqIoc4Qaf4qiKIqiKHOEGn+KoiiKoihzhBp/iqIoiqIoc4Qaf4qiKIqiKHOEGn+KoiiKoihzhBp/iqIoiqIoc4Qaf4qiKIqiKHOEGn+KoiiKoihzhBp/iqIoiqIoc4Qaf4qiKIqiKHOEGn+KoiiKoihzhBp/iqIoiqIoc4Qaf4qiKIqiKHOEGn+KoiiKoihzhBp/iqIoiqIoc4Qaf4qiKIqiKHOEGn+KoiiKoihzhBp/iqIoiqIoc4Qaf4qiKIqiKHOEGn+KoiiKoihzhBp/iqIoiqIoc4Qaf4qiKIqiKHOEGn/KvrG1tYXl5WWkUimkUinkcjmZ5MCxs7ODdDqNVCqFdDqNcrmMTqeDra2tQ9OGeYL0MivdzDo/5fDSarWwsLAQzQX7DZ87d3Z2ZLSiTIQaf8q+0Gq18OCDD2J7ezsK29jYQKvViqU7aHznO99BEAQAgCAIsLq6Ctd18eCDD8qkygHgD3/4Q/T3Z599Fv3d6XRiRnyn04nikrDlpxwNyuVyZFCVy2UZHeOxxx5Dv9+H4zj41a9+JaP3HD53fvnll7G4gwIfZwsLC2OPM2X/2bXxt7a2Fg0e27WwsCBvU+aMf/mXf5FBB56dnZ3I8LPx7W9/WwYpB5BPP/00ZsR/+umnMokyh7z77rvGvyXlcjnqPxcuXMDS0pJMogB48803Izn1+/0Da6QqMzD+3n//fRk0RL/fl0HKnPHOO+9EfxeLRYRhiHa7jRMnTsTSHUQ8z0MYhtjc3ITv+1F4sVjUT4GHhFtvvRWu6wIAXNfFrbfeKpMoc8i9995r/JvT6/WwuroKAKjVakd2zPO3oNVqVUaPxde//vXo73w+r0byAWbXxt84OI4jg5Q5gz8APPDAAwBw4CeGpaUlhGGIq1evAgBOnjyJixcvIgxDhGGIF154Qd6iHFCOHTuGa9euIQxDXLt2DceOHZNJlDnk7Nmz0Xg+e/asjAYALC4uRmmOquEH8ebz5ptvjsWNSy6Xi2R14cIFGa0cIGZq/Pm+HymeX9evX5dJFUVRFEU5IDQajejv2267LRanHD1mavyNS6vVQi6Xi05OLSwsIJfLGU8wybSpwam7ra2tKA2dgsrlcuj1eigUClG+PF2v18Pa2lq0ITXFTnD2er0oXS6Xi+LX1taicKLX68XqTtTrdeRyuVj+1LZxDzbU6/VYOyW8brxttPeS6iNP1i4vL0fpSUb85Jpps3Ov10O1WkUmk4nJP51Oo1AojLWZl2TBWVlZibVv2jZzvWOQjzxNbOpTGGxMLhQKMV0tLy8Pfe6YRqe9Xg/lcjlWl1QqhUwmg3q9LpNbkTqlsZBUX0yhN36idWdnB1tbW1F7M5nMVHma4PdxPRKtViuKJ53OolwM9G0aszw+x+aZdDo9UledTgdra2vIZDJRvVIDvcg5BQZ9lsvlqDzT+OPw/if79M7OTqxsgre5Wq0OjfuFhQUUCoWonnLOsI2fVquFQqEwdf+uVqvG+nK4TKkOk5Y7zrrA96zLsTTu2OdjcpL1AgOZ8/upvra5ZRrq9XpMnnLNo7px/sf/+B9D9aV0hUIBOzs7Ub0pTa/Xi2Ql20myTw9OSU8yV9vS8nWD7uUHTmgOUSyEu8T3/RBACCD0fV9GD7G5uRmll5frurG0tVptKA2/ut1uGIZh9H/P80LP82JpSqVSGIZh2G63Q8dxhvKgy3XdMAiCMAzDsFKpROGO48TqFIp6UZ1LpdJQnvLa3NyUWQ3B8zHJk8ub2ibD8/n8UNn8HpscisWitSzT5ThOJDMb8h5+UfumbTOFmfROl6mOo/oC6Wkanbbb7dB13aF0/PI8L+q7SfB2J42F3eqNt9PUd6bJ00Q2m43SZ7NZGR0rO5/Ph+EU5dr6UrPZjN3HSeoPPJzn1+12rffQ5XlerJykMWrq9xyettlsxuJsbePh2WzWWl/P84bqQ5eUryzLdMn+KGm327H07XY7Fh8EQSw+CIKpyqVw0/xA84htbplk7E+zXoSiv5suXp9wRB+wkVRGqVQaKVfqwzxdPp8f6ksyjVzLaU70fd9aJ3lPOKL+XKc0n3JdYPfmzZFm19IZNTlLBYxaGIlRnRJsAMhwflUqlbDb7Y4sF2wClpOPXOD5IkYTzjhykIuBCdviRdgmq3HKH+fiRomMM11ywpUkyZ0MgGnbLPOzXWRIhGMu2qaFwXZJnSa1l1+j5BaOWT5dfAGVcaaLl5+00NFiJsNN16g2SQNWGsBcLzTmZBmmy9aWcY0/aRjYrqT8bBefO5L0aTKGOTytXPhlXWzh0142+SZdUrcSPk5kv+ELOI2vacqVcfyqVCphmDC3JOmKLqrbNOuFNFJsF9e1LdyGHG/yGsf4I5kk1Zf6Lk/Dx0q3243CR829fB4rFotD8aaLG42ynoqdff/sy11nBEGAMAzR7XZRKpWi03gA8Prrr0d/O46DZrMZpa1UKnAcx3pStFKpIAxDBEGAU6dO4dKlS1G5juNgc3MTA8MXlUoluq/RaKDX6+HYsWPwPC8Kf+utt6K/e70eNjY2ov9/97vfBQYnxTzPQ61Wi9oVhiFKpVKUlvtp2mvy+Ty63S663W6sLRDy5O0HgI8++ij62/d9ZLNZbG5uotvtRvLPZrNRmlGnvWmTPYfKNn2q2Q2lUgndbhdBEMTaTAc2AODSpUuxwyfUV8LBaV7XdXHPPfcAU+i0Xq/H+jfVJxycbOZ1Wl9fj/4eF56f1Bvfr7NbvXmeF7X38uXLwAzyBID77rsv9v9Lly5Ff29tbUV6cRwHJ0+eBGZUbhI7OzsxHfJxQ/OMidtuuw2u6yKfz0f9ORzMOXwe434CJbys8+fPy+iZw8d9rVaT0VF95Pjh8r3nnnvgui5KpRLa7XbU7mazGaWBmEdMcP3x+RQAXnvttejv73//+8CMypXrQhKTjP1p1ot//Md/jMLy+XxUhpT922+/Hf09KZ988kn0dz6fj9pQq9XgOA5OnTqFEydOIAzDWJm1Wi1KS4dgeF5gcwTvu/yzLT85/bvf/S76m/wkUhmbm5tRHJj/wk6nExsT1DdJ57y+/O/77rsvGn/cM4NiQFqDkzLOExKHP/G5rhu9mZPwJwR6SrPByzKlNT15cfiTPz1R8ScI/mRhe4VvQz5ZjcL25oIY50lVvkWQn9rlZxauk1qtFoszMaqOJnj58ql1VH62NvM8pd5lm4lRnx7HwaZTnrepHfINgZSDhLd7VL81lSexyZmHu65rHI82bHna4DLib2RNn3yTsJVrC7fpbNQnO1t+Sdj6a9IYHQWvu+w3trbJcDnuef+R9Zl0ngtH1FEiP/3Sp2U5RkZtJQgTyuXhcn4gbLqyIWVKTLJeyLbL8cbnLt7n+D2j5BuKvus4TlgqlYbKInjeJplzOdm2rfD+xN9+8npA9EObPPlbP1P/4/OFTbdKMjN982c77cv553/+5+jvIAhw5swZ3HLLLUObt/nbmdtvvz36exSmtNwz//nz56NNonSZ3sjxtxRBEERPNf/n//yfKPyJJ56I/oZlQ/LKykoszX5w5513xv7/la98JfZ/6WKFNuHC8IRn2vRMPq8OElLvss0E7wtSTiYm0SnP2+QzbDfuRUyuF+6//34ZFDGt3tLpNBYXF2UwsIs8OdwpNn/zy/1APvzww9HfmFG5Nj7//PPo77vvvjsWNwrbYRT+FtbGOH1v1shxz/Us6/O1r30t+pu/zUbCQZdJWFpair0hpbfAV65cicJ834+Nmd2UK+eHcZhk7E+yXkjHx7fcckusPbP69SDf96M31/1+H6urqzh+/PjQ4SJ+uMRxHOM8xfv0z3/+c+McwdfRv/iLv4j+5i5kpO+/P/7xj9Hf/A0ef1v605/+NPqb4F9zptGtcgNO+548eRJBECCfz8fC19fX4Xne0Am5/cRxHNx0002A4VX+v/3bvwFiweKfDtbW1rCysoL19XWjMXkYWV5exunTp7GxsTG0AMwDh1Wne6G3WeXJF8l+v4+tra3YL6m4rhvbzjGrcmdNp9PB8ePHcebMGTQajblxZL+1tQXXdXH+/PmxjNwk+Kdf+tT7m9/8Jgp77LHHor9nWe44TDr2J10vxsVkiI3L0tISLl++HPv8SUYgNwA//PDD6G/TAxD/nGvbbiVPJ/N6c4NePtj9/ve/j/7mJ7/5WJd1kls1TPVRRrPvxh8GHePChQvodrvR/gMMOuabb74pk8eeDnYL/bqE6bp+/XrsqYT2m2DwJML3JXmeF3Vwvj9B7imUe1ImwWQIm8L2gnq9Hg0wz/Ni+2z4vpdZY2qfKWwW/Md//IcMititTj/44AMZNOTKgB40xoG/oSL427KvfvWrwB7pbZZ5Li4uxhb9t956K1ooIQyCWZY7DnyRGsXPfvazaC7ge7bCMNzzvUZffPFF4v/3kh/+8IfR35VKJdqHFYovPONA+98weGu0s7MTe+PDHxRmWe4oph37464XEt4Wee3WUfLS0hIuXrw4tOeYv42z7dUj+D5KaYgR3IDk/b/T6cQejKShxveT0tqbZEj2er2YnHmblMnYd+NvYWEB5XIZnU4Hi4uLyOVyMX88tMjxDlQoFKIO0ev1UK/XkZ7gx9l5h15fX0e9Xo8ZFFtbWygUCpFPM0K+yn/uueei//MOyH8ndGFhIXrl3el0Jv5N2zvuuCP6e3t7O/I9RX7IxnkKnQX886/rutFnoFarhTfeeIOl3D372WbZF7hvr62trchn2DQ6/bu/+7vo742Njci3GgZy433Gdd2hz3BJnD9/Puaba21tLSaXb33rW8Ae6W3WecpPv6YN8diDck3Q4R4MHj7J7x190n3ppZdi6Qk+93zjG9+IFqh6vT6RETkufJF77rnnovLr9ToeeeQRlnJv4W9kbr/9diwuLqI38Gs5KfLTLx8f2Ww29mlxluWOYpqxjwnWC2kA/eAHP4gZYJ1OB9VqFel0esgQGpdMJhPbSrW0tGT1qcg/odL6y+vD387ddddd0d8cnp6n+b//9/9Gf5sMNf4W1/b5luboVquFTCYTm/dkmzrMz59czxWB3AQ4KXwjqO3iG6llnLzowMGoY+qwuHoxbYQNgmDkEXNYNnTb2sc3xcoNvEnXKOSG56TLtplcbly2baolTPfKI/O2yyQzE/weqaNp25yUp63N45RVKpWm0um4/QxjHqyx9T15OY5j9XNlu8Y5JEFMk2cSNnc7cmP3NOXa2mLrD+EE7nl4fvzgStI17hgdRZK/M3kRSW0OR9THdq9Jb6ZLjkcb8jAAXXJ8TFOuLZxjksE0Y9+UH7/kIYpx3ZhM2p5QuFaxXVy+NtkSvE1SL4QtDdevPMgl5cyRdeFX0mFQOWcodvblzd+4+2E8z4veAuZyuaF9gZJxf5ydPjOPgj6dcfi+E0K+wl9aWkr81GNzF2Hi2LFjKBaLMhgY5DNKJrPi1KlT1nrbwqdlP9t87Ngxo5sLzs033zyVTsftZ/l8fmLv86anZuLChQvRW5K90Nus86Q3/hL+yRd7UK4NfghNYut7//N//k8ZFDHLuhH/63/9L2u+vu8n9o9Z8qMf/UgGRdjql4RtH5x0CzTrcpOYZuwT46wXAPD3f//3Y+lskq0hxKhtUnL+MR0c429kx/nZN1sa/nlZfungn5OlLGzrged5sV8P+au/+qtYvDIB0hqclHGeYPibv2azOeRt3vf9IQueqNVqsacKx3HCbDYbO0rOj5hLdwacIAjCfD4fe9J3HCcq33R83eQgWjrxpHSlUimW1vf9cHNzM3pqN7mSsMHzchwnzOfzYRAEsaclXg+uBylLfo+pDvwtBs+T5EW6Itm32a9YSBcRNri+bTqatM1Jeuf3yDdKIeuHlAYDFwYl5g5hWp3a+lk2m018YpfItxLNZnPIPYcpv0n1xl1L2PQ5aZ6jaDabsT7hWH4hZNJybW3hb2VNOpP9wfO86A0G3SfbJ+9xXTfM5/OxvsfHYtIYHYd2u22tI4Vzp+Oj2szzkvXhbZCOzGu1Wqwf0rjhX2vkeEyC1wMWt0bhFOUmzQ+ETSfTjv1x1wtCrm/Urnw+PzS2x2kPsbm5OSTXbDZrfHPX7XaH+jHVmX8pMc2j4Yg0fD6XdeZv6aTOu91uWCwWo/7rum40N/M2SYIgiMrkb+qVYVLhXuyYVZRDQiaTQaPRQD6fH+ut3X5CdcPAwTM5XFUURZlHWq1W5G7H931cvHhRJlHGZF8++yrKQYU+06yvr+/ZqWJFURRl9/ADN/yAnTI5avwpcw13Bp3001CKoijK3tPr9ZBOp5HL5VAul6Mrk8lEngGcwc/TKdOjn32VucT0ywBBEAxtzL6R6GdfRVHmDf5p14TjOLh8+fLQARJlMvTNnzKXZLPZ6NSe67rY3Nw8UIYfhL8s08+7KYqiHDVuu+025PP5oRPAvu+jWCxie3tbDb8ZoG/+FEVRFEVR5gh986coiqIoijJHqPGnKIqiKIoyR6jxpyiKoiiKMkeo8acoiqIoijJHqPGnKIqiKIoyR6jxpyiKoiiKMkeo8acoiqIoijJHqPGnKIqiKIoyR6jxpyiKoiiKMkeo8acoiqIoijJHqPGnKIqiKIoyR6jxpyiKoiiKMkeo8acoiqIoijJHqPGnKIqiKIoyR6jxpyiKoiiKMkeo8XfAaLVaWF5eRiqVQiqVQqFQkEkOFL1eD+VyGZlMBuVyORaXyWSwtbUVC5t3MpkMUqkUdnZ2ZJQyh/R6vWi8r62tyWhFUSysra0hlUoNrTvKeKjxd4DodDr427/9W2xvb8PzPPi+j/X1dZnsQPHyyy9jdXUVjUYDq6urWF5eRq/XQ6fTQaPRwH/+53/KWxQAX375pQxS5pAf/OAH2N7eRjabxfnz59FqtWQS5Qiys7ODcrmsD8dT0mq1cP78eXieh8cff1xGK2Nw6I2/arUavSWzXdVqVd52IHnzzTfR7/fh+z6uXr2KixcvIgxDmexAsb6+Dt/3EYYh8vk8tre38c1vfhP3338/AOCv/uqv5C2KogCo1+vY2NhApVJBvV6H53n427/9W/R6PZlUOWJ85zvfwerqKv73//7fMkoZg8ceewyO42BjYwOLi4syWhmDQ2/8ff755wAAx3Hg+77x+u///b/L2w4k7777LgDg7/7u72TUgebee+8FAFy4cAGlUgnXr1/H9evXUalUsLS0JJMrytzT6/VQKBTg+z6efPJJAMBrr70GADh37pxIfTBotVpIpVLI5XIyaq4ol8u7/tx4/fp1AMCjjz4qo5QRVKtVBEGAX/7ylzh27JiMVsYkFR70V0sjKJfLWF1dhe/7uHjxoow+VGQyGTQaDTSbTZw4cUJGK0cA1bFyWGm1WlhZWTkSc+1u0DGsHAUO/Zs/RVEURdkvGo0GAOC2226TUYpyaNi18dfr9bC2toaFhYXok0Cn05HJDhRbW1vRqctUKoXl5WXjxttx07VaLRQKhUgGqVRqopOuVAZNKisrK1E+tAE8l8sl7l9Mp9NIGU6RUl0w2GMkTxLbdEWfpShf0q3ckN7r9VCtVmP5ptNpFAoF694lOiHM71lYWEChUBiqfxL0+aXVaqHVakV1TafTsXSdTseon3q9HkvHkbqn+sn2wyBXar9NtsTOzk6k11RC/yJarVYs/cLCglEnozDpdnl5GdVqdUhnJDueNp1OY21tbSgthE46nU5i+8rlcpTvwsJC4mc0ajvXIdV5ElJsPGxtbcX0lsvlrP1vkjFOn0fL5TI6nU7UjxYWFqL8Jx03lAcMHgF4vUm3VM90Om2sIzFOn6L2rKysAAPjh9KnUqmon4/Tbsxw/GNCvYxC6oPLdWdnJwonbrnlliiM5EXp1tbWorEjZUD71OXpbtJDp9MZ0svy8rJVNnJ+S6fTqNfr6PV6WFhYiPr7btiL8SfnTducOYu1r1qtxuYaPs7kPJzJZIbyIqjvyrmzXC4bxy3lR3YS3SPXnnq9HltvUoP+N00/Hptwl2Sz2RBA7PI8TybbM0qlUggg9H1fRhnZ3NyM1dP3/ej/7XZ74nTFYnEoneu6Udjm5maU1kaxWAx93w8dx4nl4/t+VBaVXyqV5O1h+KdP9yGAsNlsDoXz+ruuG2uL4zhht9uN3dNut6O6OI4T+r4fep431P4gCIbS8bxN/aDb7cbyonsoHwBhrVaTtxkh3dO/VAfHcaI0vC3Udl5+Pp+P5RmGYZjP52Nt4PXzRT/jaWVbHMeJ9ZWQ6ZHuozrzPmNqf61WG6rTqHtMjNIt7z+mtFy/pvaRLvL5fExmckxQmZ7nxcovFoux/ELRdpMOPc8b6sM2qD4kf8qP9z85hiYd481mM2qLlEGz2Zxq3FA81YXu4/k0m82h8mx1DCfoU+12OyZzXmff9yPZj2p3OOPxP6lekiD5yjHhD8Y7yYDy5zLIZrORDCqVilUGlIbWzEqlEqsD5U16MelYYprf6P/UBtOYmoRZjz/SFc+P8nIM6xHFz3rt830/UdZBEMTy432X6z9JDlQOpfMG8x1vi2m94f3YtEbNgl0bf1RBeUlF7BVy4ZeXnEhIqLx+QRCE2Ww2FjZuumw2G+bz+aGOwheXcaEOYpLdbgYAXXyy4QuQnISog+fz+VhnDoIg9DwvKqPdboeu6w7JmE9IMo4PAi6zbrcbM4ikPE2Q7ik/OfC63W5UD7kQ8DpymZHR7wwWU87m5mZsIuUPHrJsaosvjEU+WUj58kmAt785WFRd1x0ytvjkJetgIkm3xWIxyp/LzpSW8vGEoSJ1Qu3odruxtkP0Db7AmNoOQz9tMmNn3AWOl8/z4xO7HLOTjnFeZ8dgIO9m3EDog49jU3mj6jhJn6J7ZJ8mRrU7nPH4n1QvNqi9cg5pNptD8y3lLcMJ3gbZRsK0tnS73eg+GHRMcpX3mPo/lyUMfWkS9mv8Ja1Hs177+IsdCL3zeSAvjC6qh2wrv0fWkZdj0gO3X2T96UEChvVrFhwZ48922ZRhGpSccdPZ4AN2XPbS+DN1PHpy5pN5u90OYZj4J8U0SVLeSXKliVFOACb4wDHVlT+Fm6D7eR3pqdwmZw5NVqayQyZ7DulRTiyEqf1UJ9sEkNRvOJPolmRnW0B5/+aLPMlULqShmHRN/dG0KFLbbfLihso4JJVva5MN2xjnC+YonUhM4yYc0W/420BZb1sdp+lT1K5xjD9Tu2c9/m3Y2mzDNA/YILnY5EZGgM2AJSNP1o3LzqRjk1ypr2Sz2VhaguYn2ScmYT/Hn2k9Cvdo7eMPr3KeojaZ1kX5sEvYxgbVwVZ30pGpjuEYOt4Nu97zl81mZRA8z9v3U1Dka05eZ8+ejaWj+maz2cS9UuOms3HQjqDnDO4ZHnjgARkU7Tu8++67d+U/6Rvf+IYMivL2fd8qnyeeeAIA8Otf/1pGWfnRj35krOvly5cBABsbG8hkMkPXq6++CjAXO5QWAO65554ozMTOzg76/T4A4Hvf+95Q3nyfjan/PPzwwzIIACL/iHzPyTvvvAMAeO6554bKyGQyuHLlCgDgvffei+4xMYluSf6kD8mxY8fg+z7A8uU89NBDQ2V85Stfif429Ufaq8nbQfqwyYvy6ff7RjnbMJV/7NgxuK4LAPjoo49k9BC2Pkz4vj/xPGgaNxyTHG6++WZgoFfpWonXkctnVn3KhK3dezX+Jba8bZD8XnrppZF7rKgN3/zmN2UUAGB7exsA8OKLLxrrQf3K87xYOMnZcRw8//zzsTi+l+zWW2+Nwmjf2LPPPhvFE71eL5qfZJ+YhP0cf6b1aBaYyqK5yTRPfe1rXwPEvPbb3/4WABAEwdBYyWQyeOqpp4bu4Ug7BIPxSDoy1RFM7qSHWbJr4++VV15BsViE4zjAwFg6yG4AXnnlFXieh+3tbaysrCCdThs3uo+bDmzzdqFQiHWIwwz57huHVquF8uAn3ugiw8rEXXfdJYP2hM8++wwYDNhGozF0BUEAWOpjWrw4/Bc6ZL50YTCZ04Q9DrT4843PNEFsb28PldFoNKL4O+64I7oniUl0O26ee81+nawkA/STTz6Jhe/FGJ903MySWfepSTCNt2mZhV5OnToF3/fR7/fx4IMPWg/J0AOZ67pDBgOYce04Dk6dOiWjAQAffvghAGB5eTkW/sEHHwAA8vn8UN5kMLquGxmUv/vd79Dv9+G6rtG4+93vfgcMDO1ZsF/j76BC/oT7/f7QWGk0GpHRL436cZjmnlmwa+NvcXERL7zwAq5fv44wDFGv14c670FicXERV69exebmJrLZLIIgwJkzZ3D8+PHY25Zx09XrdRw/fhxnzpzB+vp6rEMcdXq9HjKZDFZWVqKfeKOLDKuDQKlUGnojzK8XXnhB3jIRMj9+Xb9+3fgGYBqazeZQ/vw6efKkvEWZAbMe4wdp3BzmPjUrvSwuLuLixYuo1WpwXRdBEODBBx8cOn1ue2tH/PGPfwQGb+9tayCtHdJgI+PB9PaL3grycv/whz8MhXHeeustYMaGtmL/wkjX1atX5S0Hll0bf4eVkydPol6vIwgCeJ6Hfr+PF198USZLTNfpdHD69Gn0+32USiW02+1YR5glk7ytmQX8U6iNc+fOodFowPM8bG5uotvtRm0vlUoyecT7778vgyLoCeurX/2qjNpXJvmEMUv+4z/+A9jjSXsc3RK0yJigt+D02WwvsX2G5W/ib7rppljcNFy7dg1gb7z2YoxPO26OCrMY/3uhl1wuh2vXrkU6WF1djcX//ve/BwDceeedsXBiVDyAyDi4/fbbo7BerxcZ/aYvDvRWkOdrCiM6nU70Sfgv//IvZfRU7Nf4M7Hfa99+Q4a/iS+++AIYvE2eNXNr/BHHjh3Dz3/+c4B9JjRhSvfpp58Cg6evs2fPDj3N7QU06Dk2n0TTQIvelStXjJ+4OfRp8ic/+QlOnjxpfdolKO9Go2HNm/Y2fPvb35ZRE0M/kzfJpzR6kh611+nEiRPRgJQ+m8bh9ddfl0GxfTx80qb9p6Z7JmES3ZLx+cYbb8goYKB7mrTuu+8+GT0zSB9vv/22jAIAXLp0CRh8Eptk/Jl01mq1okX4L/7iL4A9GuOTjpu9YFZ9ahJmOf73Qi/E448/LoMAZrTa9gOPigdb6Pln1FFvFOkenm/SWlUoFKLP9rv9XLtX428a9nrtS4Lvbzb5IpwGrhvTNgOwN7i2PYG7Ya6Mv52dHSwvLw+91aGOTU+b46YjgiCIdcLOwLntLKGJc2NjI1ZWq9XCt771LZZyd5w8eRKO46Df7+PcuXOxSZoct0pnm9RBiXq9jpdeeikWhkHetKE+M3B8SfQGzmmDIIDrujMxKO677z44joMgCIzOc3d2doYciz799NPAYPO31H+r1Yo5Zs3n88BgspVpyZCTn46I9fX1oTqdO3cO/X4fjuPE2k+//7m+vj4kewwmjkKhIIOHIPmbdNsbOC+ldtACuL29PZR3p9OJHYia1WdtE6SP8+fPDxlsrYGDXwB45plnYnGjOH36dEyWvV4v2rRtOpCwF2N83HGzF+ymTyUZb0nsxfjfjV46A+fIcjF/+eWXgYT9cvQ2RkKfm217fGlsyT2D9KAp9wFCvBXkxgK9DXv11VcjOfZ6PeRyueiwDgyflzudDhYWFrCwsDDUbhN7Nf4mYb/WviSWlpYiQzibzQ7JrtPpoFwuW404E4uLi9Ea8sgjjwwZstVqFevr6wAQ/f73TJHHfw8b3N2Hb/Dz5zNff9wFgDtw+EiuBSCcF4+TLmRHxiGcOTqOE90zLnSvPLJOyLL4cXX6W95L6U3YjqdzlxwkV142lcHTSTnZ/B5xX2ZUtj/CMbKNcVw00LF9WZ5Nn6GQsyecbnKXBty/E5cB6RGGI/oUx/2ByfqY3Ehwv128r3O5jYNJt7y+3MUGl50prclNQpJOuDsLE5S3vJe3nWTM5W5zQ2GC7qGyKD8uR+miQ447utc2xm3jiphm3FCZcnyHYzi6p7LkvdP0KT4OKC3Ja1S7wxmP/0n1IuH9ke7n7ZP1ILcnvO0kU+5GyQa5T5Jzgs3pcyj8MXJMaxSVb3OZEo7hjsfEXow/E0n9R+p6t2sfyUuOszBhnpJ9l9YGXjepQ1M+HLmGyPUGCW5gdou9VocE7gjRdnEFN5vNMJvNxiabbDY7NNDHTUcONXm6fD4fttvtaFCPC6WXnZiQZbmuG5ZKpbDb7Ub3yvqRDEwkDTZqP5djVji4DgcLmey8lUolmgxNgysIgjCfz8c6uOu6YbFYHDImkqBFTw44SbvdHirP87wwn88PtYcolUqxdrmua01fqVSiyQRscahUKkPtoXShQXYm+XI2NzdjfRID3RWLxSGDJQnqmzIfU33lOCDZ2WSeZPyNWiCTFsFarRaTMcnLZCgnQfeGg7ryxT5vcBgcGsbdqDFO4yqb4JtL6n7UuKG2m/qHzaggqN5ybgin6FPtwS9d8LTEOO0OZzj+J9WLiVqtNjTObfWQbeftJIM+qe1klMn+TeWb9EMPYCYDi/ch3n+pP5j8m5KOkOCf1MRejD9J0nokdb3btS9prkmap7rdblgsFof6TDabNRpptnw43W53aL3hfXmvSIXT7o5V5oJyuYzV1VXUarWxP6coykElNfhtVp32lKNKLpfDxsaGcc6m+Tyfz+PChQuxOGW+UONPSaTT6cB1Xfi+f6D9NyrKOKjxpxx1FhYW0O/30W63Y3v+er0ejh8/DgD4+OOPb8hBI+XgMFcHPpTJoV89mNR3lqIoirI35HI5lMtl46GZfr8P3/eHDntcunQpclWmhp+ib/4UI9VqFb/+9a/R6/Wwvb0N13UjH2iKcljRN3/KUWB5eRnb29twHAd33303MHDhRN4Ctre3h06sp9NppNNp/YKjAPrmT0niypUrkeH3q1/9SkYryqFkLxymKsp+cvHiReTzeSwsLES/auK6LkqlEj7++OMhww8DB+Zq+CmEvvlTFEVRFEWZI/TNn6IoiqIoyhyhxp+iKIqiKMococafoiiKoijKHKHGn6IoiqIoyhyhxp+iKIqiKMococafoiiKoijKHKHGn6IoiqIoyhyhxp+FarWKVCo19MPYysFja2sLqVQKy8vLMmruqdfr2o8VRVGUGGr8Geh0Onj22WfhOA7Onz8voyeiWq2iWq3KYGVG9Ho9/PCHP4TjOHjttddk9ETs7OygXC5jZ2dHRh1aPvnkEwDAZ599JqMURVGUOUWNPwPFYhH9fh///u//bvyZnHFptVo4c+YMzpw5g1arJaOVGfDyyy8jCAJcuHBh6IfMJ2V1dTW6FEVRFOWoosafYGdnBxsbGyiVSjhx4oSMnoibbroJjuPAcRzceuutMlrZJZ1OB+fPn0c+n5/JZ00y9O+66y4ZpcwhrVZLP5krinIk0d/2VZQjTLlcxurqKnzf1x91n5BWq4WVlRWVnaIoRw5986coiqIoijJHHHrjL5PJIJVKAYMn9eXlZaRSqehzDW3e7/V6KBQKWFhYQCqVQjqdxtbWlsjN/qmnXC4jlUqh1Wqh0+kM5VWv12PpiVQqhYWFBRmMVCqFTCYDDA6FpNPpKG2hUECv1wMGn6FzuVzUpkwmYz2Q0Ov1UC6XYzKg/Gz3JFGv12N5pdNpFAoFdDodmdTKrPWDQT48LclFpie5kZw5pGeuG9KxPKCzF23AIK9cLhdrx/Ly8lD540B58XzG2Wc6Cx2D9VPellwuNzQuxtUdpU2lUiiXy+h0OpEeFhYWYv25Xq/H2r6wsBDTiwk5TtLpNNbW1tDpdKJyV1ZWAACNRiNKl0qlhmQziQx5X6pWq5EcCoVCLJ3UJ7XJplPZnlHtVxRlzgkPOb7vhwDCYrEYAggdxwl93w8dx4n+32w2o//7vh+6rhsCCAGEm5ubsfyazWaUjlMqlUIAYT6ft+ZVKpVi94R/+qQemsQMIPQ8L6q/67rR35R3rVaztikIglh+3W439Dwvdj+/B0BYq9Vi9ySRz+eteTmOE7bbbXmLkVnrh/IBk58tfRAEUb4yH7qHh5OOpR5n3YYwDCPdgume68/zvLDb7crbjJjyorpQnr7oz+EMdWwqn7efmER3IRuLxWJxSLbNZjMMwzCxzzsTjBP6f6lUCtvtdkwfpG+6uF4mlSGVRX2N5OUz/XB5muQkxzGXq6y3oiiKiWGr5JDBJ+58Ph9NzHzhN03ENGm7rstyG2380YTMFxVuFEjoHgmFAwgrlUoUvrm5GYvjRgBfuPL5PMvtv+Qg69btdqO2mhZDE9RWudCFTG5SPjZmrZ9sNhvm8/mhdtjSU1scx4nK5u0zpbUZf7NqA/UxCN1THOVZLBZjcSa63W6Unte72+2G2Ww2KsfW1t3qmMtAtqXdbofZbDb6/6S643KSsiVc1w1LpVKsDUnjhMaqaZxUKpWYYWWbC4hpZCj7koTKdF13qL38YZD3QRkWDvLxPI/drSiK8l8MWyWHDJpMTRMpN8rkREqTJoRhZpvwaaI3vZHpdrtRXvRGgjCVwcPlU3zI3maYyqIFgNev3W5H+cmFlaA3B3KBNkGLuSybsLXJxKz1YyMpPcmzWCxGsjIZwqOMv1m1gYwyU36hWORHUalUQhgMJ4LKkv15Vjqm8mX+k2CTEzf+5LgahWmchKzd4+RnmwuIaWRIfcmWJ+lLvgUl6H6qPzcWFUVRxuXQ7/kjHn74YRmEm2++GQBw9913D/mA4/77bPtoTDz00ENYXFyMhS0uLsL3/VjYuMi9hRjkB0tZX/va14DBPiSC/vZ93+qX8IknngAA/PrXv5ZRMXZ2dtDv9wEA3/ve95DJZIYuYhK57bV+bO0GEDl/Pn/+PL7zne8AAF588cXEe0zMqg0bGxuAJT+wPtHv90e2/fLlywDTr+TOO++UQTPVMfWne++9V0aNzSg9+L4/sdslGiecVqsVtXvS/CS7leGPf/xjGQQAeOeddwAAzz333FB+mUwGV65cAQC89957wKAdjuMgCALkcjnjPkNFURTJkTH+lNn4p/vyyy+jvxuNhvECcEN9F/Z6PVSrVRQKBeNiK1laWkKxWAQABEEAz/Pw5JNPymT7zm233SaDJmaaX+7YCx3fc889MsjIpLobh06ng3K5jFwuF+X31FNPyWQR0z6ocfZChhgY/ACwvb09lF+j0Yji77jjjuiey5cvw3EcbGxswHVdZDKZoYM2iqIoHDX+FCuDbQHG6/r16yPf2OwF9Xodx48fx5kzZ7C+vj602NoIgiD2N52mnnekXvdSx9PqLom1tTW4rovV1VVsbGxE+W1vb8uke4aU2yxk2Gw2h/Li18mTJ6O0S0tL+Pjjj1Gr1eB5HhqNBk6fPo3l5WXt54qiGFHj7wjx/vvvy6CIzz//HADw1a9+VUYdGjqdDk6fPo1+v49SqYR2ux1bEG1sbW1Fb0V830e/38e5c+dksn3no48+kkHA4O0YcdNNN8XiDir0GdLGtLpLol6v4/z583AcB7VaDUEQRPk1m02ZPGI3xuZBZXFxEblcDlevXkWz2YTjONje3sabb74pkyqKoqjxdxSgT0CNRsP6pE/7zL797W/LqBi0hwiDxfUg8emnnwIAPM/D2bNnh/bYmej1enjkkUcAAL/4xS9QKpUAAOvr68a9WPuB53kAgLfffltGAQAuXboEAHBdd2Qbaa/dG2+8IaMAAB988IEMmqmOaavBu+++K6NiTKO7UXzyyScAEP2836g3bPwz+251P0sZcrLZLADg9ddfl1Fjc+LECfzoRz8C2EOfoigKR42/I8DJkyfhui4wcCLLDUByPBwEAVzXxX333cfuNJPP5wEAhUJhaJHs9Xqo1+sol8ux8P0kCIKYA9tOp2M8OAMAP/jBD9Dv95HP53HixAksLS1FBuBjjz1mNZb3kqeffhoYHECRhgM5QQaAZ555JhZn4tSpU8BgjxjPq9frIZfLRUa/ZFY6fvzxx4HBg4d0Tk3O0LmMJ9HduLzzzjuxMlqtlnHP3+LiYtTup556auhwRL1eH2oDEh6qZiVDzqOPPgoMHk5Mddna2oo5hK5Wq0MHPXq9XmSM04EkDD6RmxxKK4oyh8jjv4cN6fqAY/PnRpArBn6vzb2DzQ0IYasHlSGxhYfCEayEu7/gtNvtyPUE1d8f4XDWBveTBuGIlsK4/7YkbHIJp9SPzUGv4ziROxuCZCV9oHW73Sgtl7FNx7NuQyicA5N8edtsbmBMmJwn83xM9Zuljnn5prZQv5tEd2HCWCS4j0Fn4IiZu0ky3St9M1I9KEy2mepF+TvMRdA0MqQ42R84vG9QubyODnMBZHIITelc1431ey5vRVHmG7P1cYhImkzJB5mcgAmaJLlRRAuOvMdmGBC2etgmW5qwTZCvL5NPPu6nThIEQZjP56MFixaAYrFo9UWWRKVSiS1ktBBVKpWx87PJJZxSP92B02q+EObz+cihMJcpLcwmX4rcmTa1hXQs5T7rNhC1Wi0mX8rH5uMtiVqtFjNEstls2G63o/5iq98sdBwO5CnzyWazMdlPorswYSxy+L0Q/Z3aIqF68HHieV5YLBaHfD+2B7/2QelM+U0iQ0pn6g+czc3NMJvNRrKisk11lP3Idd0wz5yRE2SkT/JgoSjK0SQVTrvbWlEURVEURTl06J4/RVEURVGUOUKNP0VRFEVRlDlCjT9FURRFUZQ5Qo0/RVEURVGUOUKNP0VRFEVRlDlCjT9FURRFUZQ5Qo0/RVEURVGUOUKNP0VRFEVRlDlCjT9FURRFUZQ5Qo0/RVEURVGUOUKNP0VRFEVRlDlCjb99otPpIJfLIZVKIZVKYXl5Gb1eTyZTFGWfabVaSKVSWFhYkFGKoihHEjX+ZsjW1hbK5bLRqMtms9jY2IDruvB9H0EQ4KOPPkKv10O5XMbW1pa8RVGUfeCxxx4DAPz7v/+7jFL2kJ2dHZ37FOVGER5Sms1mCCB0HCfsdrsyeohsNhsCCEulkoyaGQCMZSTVtVQqRfcpirK/0PirVCoyStljXNcNAYTZbFZGKYqyxxzaN38nTpyA4zjo9/u4dOmSjI7R6/WwsbEBAPB9X0bPDNd1AQB33HFHLPy9994DANx///1YXFyMxX39618HAHieFwtXlHnhRn1y7XQ6WF1dRT6fx5NPPimjlQTK5TJSqRTK5bKMGpvr168DAB599FEZpSjKHnNojT8AyOVyAIBf/OIXMioGGYee52FpaUlGz4xr164hDEOcPHlSRgEA7rzzThmEXC6HMAxx9epVGaUoc0O/35dBe86xY8cQhiEuXLggo5QRvPvuuwCAe+65R0aNzfXr1xPnS0VR9o5DbfzR03qj0UCn05HREb/5zW8AAN///vdllKIoijIhjUYDAHDbbbfJKEVRDgG7Nv56vR7W1tawsLCAVCqFXC6XaIjNkqWlpehTq+3TL//ke99998Xi6vU6lpeXoxO46XQahULBWP9MJoNUKgUAqFarUXsLhcJQmp2dHYB9GlldXQUArK6uRmXR5xI6aUhvMSWyjiTfarWKVCqFarUaS0/1ojpwOp1O4ic2WVaSPGz0ej0UCgWk0+morEKhYDwEQ4ddKG1qcAradmgmiVarhVwuF7Wf8pLyGUWv10O1WjXKwVSncfpFp9NBoVCI1U1epC/Sq60/FAoFpAx65/VotVpDfYbyJ/1QXdLpdOKG+0n6hKwDP92eyWTQarVi6SlO/j+VSqFer8fSzkq/mFG/O0h6arVaQ/0rk8lY0ych+z6v087OThRO3HLLLVEY6ZfSra2tRX0/NZgLZD9fW1uL8sLgS0gqlUKn0xnqQ8vLy8Z5DQadLiwsRPrkMlcUZYDcBDgpdJCCX57nyWR7Bm3YtpVZq9WMm4rz+XxUX9/3Q9/3Q8dxooMZ7XY7lt73/egwB4DQdd3oPpmm2WyG4aBs3/ejjc38nlqtFobsMAjPh+B19Dwvyt9xHOsBFkpPdeBQWTCofVJ52PA8L7qHt13Kv9vtDqWl9lF75eEYG6RjMBlT3pPkFQRBrM2mOkko3tYveJ4URzKhPH3fD4MgCEPWn039IRTlmcKLxWKs/rw9zWYz+r+sx+bmZiy/cIo+MaoOEP1Sypf+7/t+LN2s9BvOsN8dFD1RPlT3UemToLpRnUhO1MZ2ux3Ln8svm81GcqtUKlEbZTsoDc1f8qAN5U06N8lHYtIp5UPhprGrKPPMsBUwITTJyMtkfOwFQRBEZdICyqHBT8ZWKCZuOdHTgicndZoYAYT5fD4WR1Aa2XYqTy4EYYLxxw01nl+73Y4tfDJP0z2EzfibRh4maMKWaWu12pDxR7IqFouxcD6Ry7aZ4G2SCwlfRGU5Jtrtdui6bqyvUDjlI+NG9QuSn2w/hct7dmtUUJ6kR258wmC0UT1c12W5TdcnbHXodrtRnJRDyPqsiVnqN5xhvzsoespms2E+nx+a+2zpbdDYlcZvs9kcagPlLcMJinccJ/Q8b6huITPy+DzV7Xaj+0zyIdnIuY1kKvsqGaGUl6Io/4V5xp0AGlzykgN0L6FJW07oNGE4wsUKTS5yUSOoDRw+wdigNLLt0xh/9GRsmrS63W40eco8k+RvM/6mkYcJaqepzpx2ux0i4WncJhMTSXIK2aJmemMwCbYFb1S/oL4p35LRQiflulujwiQH/pZJ1oMvqpxp+kRSHTY3N433hJa8iFnqd5b97qDoycak6ZPmKAm1wfZWkb+FMxl+tr7P5yeTfCiOz22kf/5WkWN7w6go886u9/xls1kZBM/zcOLECRm8Zzz99NMAEO3tI2gfYC6Xi1ys7OzsRCcLv/e97yGTyQxdhNyjBAA//vGPZdCe8M477wAAHn74YRmFxcVFpNNpGTwVu5UHh9zorK+vJ+6f+u1vfwsACIJgqKxMJoOnnnoKYJvKkyCdm+QEdiK83++PrH8S3/jGN2RQDFu/2O9TrCY53HzzzQCAu+++e+i0+7Fjx6K/+Z6t3fQJUx2mPdE5S/3Ost/tFlN7JtVTEjz9OFDZL7300si9giSfb37zmzIKALC9vQ0AePHFF431+OijjwCDeytyieU4Dp5//vlYHJ9Lbr311uhv8vTwzDPPDLnRwkDXAHD77bfLKEWZa3Zt/L3yyisoFotwHAcYGIMXL16UyfYUOsgRBEFsQ/Brr70GAPibv/mbKOzLL7+M/m40GsYLgwmITzL7zX4ZDbOUx9LSEmq1GjA43HLLLbegUCgMLVaff/45MGijLKvRaESLh1wckpjlqcNWq4VyuRwzDF599VWZbCzuv/9+YLDBnXPu3DnA8vB0o5lln5gVs9DvXvS7gwAdUioUCkYDfRxOnToF3/fR7/fx4IMPWg+Y0Pzquq7R2KKx7jgOTp06JaMBAB9++CEAYHl5ORb+wQcfAADy+fxQ3mQwuq4bGZS9Xi/qi/IwH8WTTvfzZYSiHAZ2bfwtLi7ihRdeiHw21ev1oYG71ywuLkaL6L/9278BgxOW29vbcF3X+tZh8NnbeF2/ft341HqUkTKYRh65XA5BEKBUKsF1Xayvr2NlZSV2+pXwfX+oHH7tt+9DOhm4srKC1dXVmGFAbxAmhd7wrK+vI51OI5PJIJ1OY319HY7j4Nlnn5W3HCikTqbpEweNg9bvdkO9Xsfx48dx5swZrK+vDxno47K4uIiLFy+iVqvBdV0EQYAHH3xwyImz7a0d8cc//hGwOLQnyICUbzfJUHvggQdi4WBvBXm5VBfHcYz9kPt3VRQlzq6Nv4MCeYlfX18H2MA/iG9W9pK9/AWTcTl27BjOnj2La9euoVKpAAO92Nw0zAJaCCT8c9FNN90Ui5OcO3cOjUYDnudhc3MT3W43MghKpZJMPhY//elPAQDFYhEYvEm7fv068vk8Ll++PLQA7sZp7lFmFvqdJQdBT51OB6dPn0a/30epVEK73Y4ZsdOQy+Vw7dq1qL+Tmyri97//PWBxWI8x4gFExjX/FNvr9aIHLNNbOnoryPOlN4h33313FMb5p3/6J8DwhlFRlCNk/J08eTL6ubetra3ok+93v/vdWDr6WTgMnpoPKmTEvf322zIKvV4P165dk8ExaGIcFbbX8njyySejttDnRPp/Y4Rz7nGgp3qTnMAeAlzXHTK0JFSXn/zkJzh58qT1zcW40Gcp3/fxwgsvRL8Ac/36dVy4cCGxPleuXJFBY+l9Fux1n5iEWep3lv2OuJF6+vTTT4GBjM6ePTuy/ZPw+OOPyyAAwPvvvw8kGL+j4sHe8PFP+aPeKNI9PF/6jG+iXC5H98xSLopyVDgyxh8Ge0UA4LnnnsP29rb159wonWk/Wq/XQ71eH/rcsd889thjgOGN2c7ODjKZjPUz5F133QUA+Md//MfYW5FqtYozZ86wlP/FrOSRy+WGDnp0Op1ogaQ3M0tLS9Ekn81mhxbiTqeDcrls3HMkocM+58+fHzJUyPktBhvCx+Wtt96K/b9er+Oll16KhU3ClStXxn7rSQtiv9+P7RPsdDqJep81s+oTk2DS9yz1O8t+d1D0BMNe506nY3U+LSEnzFIWL7/8MpDwJeGLL76QQQA7DGLbC0p9Se4ZpM+6prd0/K0gNxjJEGw0GrH2l8tlrK6uRg8w8rDH1tYWUgPH2Yoyt8jjv4cZcuVAl+14P/fpRW4CfOHsVfojs7lx4djSJLlRSHIvwevoM6errutaXb2YHBVTWnJXAqH2aeRhguc/6n7uOw/MQS2vh01/El4u1Z3nY3IbYYK7I6F8pLNYKW+bzgnuhJdfnueF2Wx2yG+gvIfkgoE+bc69k+oxyi0JlcXvnaZPJNUhZOVIZL+RvhZnpd9wxv3uIOhJzhG8DtR3k+DuVeh+us/kcobaRXOLM3BKHbL5N8ntDvnek30nySUL1dE1+CzkdaX6QDiYlpCcYXDBpCjzwvDIOOTQZGjzMcWpVCqxxYwmkEqlMuQzitIlTRa2NDThyYUgZBObnAzDwQJcKpViE1x+4PiUyjLl2W63o8kUg4WJFlPHcayT8yTyMEH15QuS53nGOoaD9MViccjIsBlFSdQGv6ZC+ZBMbb7IbGxubg7Vv1KpRAubbItN54T8pQK6aGGCwT9lOFigpN6DIIj6klwkqR4mo8K24BJUF1MbJukTSXUIE4y/brc7ZODJsTsr/YYz7nc3Wk8kO4qjOvA5YBS1Wm1IFsVicUi/IfuVD64Dgh6ebPUPmcEs5ULlm/ogjSGTkS/numw2GzabzWi8egafjlRPkzGpKPNCKpx2Z7ByQ8lkMmg0GiiVSjh79qyMVg4ArVYLKysrcF0Xv/vd74b2ENbrdZw+fRr40wodi1MUZXpom0s+n8eFCxdktKLMPUdqz5+iHCRoH9MTTzwxZPiBOShWFGW2XL58GdDDHopiRY0/Rdlj3njjjdghGAw2sdNhBdd1Y3GKooymWq0il8sNHVapVqvY2NhIdDStKPOOGn+KskecOnUKjuNge3sbt9xyC5aXl6NfX7jlllsiR8+/+tWv5K2Koozgk08+wcbGBlzXjcZVOp2OvBr88pe/NL5xVxQF+G//8A//8A8yUDn4vPfee9je3sapU6esvrGUG4vjOHjooYfw53/+5/h//+//YXt7G0EQIAgCeJ6Hxx57DJVKZSY/XaYo88Zf//Vf48/+7M/w2WefodlsIggCLCwsIJfLYWNjw+r8WVEUQA98KIqiKIqizBH62VdRFEVRFGWOUONPURRFURRljlDjT1EURVEUZY5Q409RFEVRFGWOUONPURRFURRljlDjT1EURVEUZY5Q409RFEVRFGWOUONPOfSk02mkUins7OzIqJnR6XSQSqWwsLAgoxTlhpLJZPa8/++Ger2OVCqlv2WtKAcINf6UQ08QBACAL7/8UkbNjE8//RQA0O/3ZdTEbG1toVwuD/3er6Lshr3s/7vhk08+AQB89tlnMurQQmP4oBrc+0m1WkW1WpXBygHn0Bt/1WoVqVRq6KKf+Wm1WvIWRbmhPPjgg1hdXcW//uu/yihFUQ44nU4nGsO//e1vZfRc0Wq1cObMGZw5c0bX2kPGoTf+Pv/8c2DwO6q+70dXv9/HxsYGVlZWUK/X5W0T02q19NOFMhNc1wUA3HHHHTJKmYCD/rlTOZiUy2WkUimUy2UZNRb0htVxHNx3330y+siRtN3lpptuguM4cBwHt956q4yee5Jkd6M59MYfcffdd+PixYvR1e12kc/nAQCnT59Gp9ORt0zFUfp0odwYrl27hjAMcfLkSRmlTMFB/dypHEzeffddAMA999wjo8ZiaWkJYRji+vXrOHbsmIw+kti2uywtLeH69etzJYtJscnuRnNkjD/J4uIinn/++ej/V65cicUriqIo80ej0QAA3HbbbTJKUeaGXRt/vV4Pa2trWFhYiD6Lzuot225ZXFyM/qbPw5xWq4VcLpe4T5A+966srACDiYPvLZRtrdfr0ecounK5HLa2tmLpiFQqhUwmE8mR7uGfqikNBvkvLy9H6QqFwlAdiF6vh3K5HJ2GTaVSWF5eHvuwAX0eSfrUTXXhMpu03HFkIPNcWFjA2tqaMT+i1+uhWq3G5JVOp1EoFKz3dTodFAqFqD+n0+mxNjNLvVA5Jt3YPldSOAZ7WakOhUIhlo76LcWTfMepJ2dnZyeWTzqdtn4KG2esjMukY0RC99IivrKyEuXDZTWp/rn8W61W7L5cLhfpq9frDfURW91brVYsbWrQ103paa6hcSL7u238cEinvKwkHc2qL8HQR5aXlxPLxoTyGYXUNdfZzs5OFE7ccsstURjVk9Ktra1FcwHJn/KiNso6Unin0zHKQo53wjTn1Ot19Ho9LCwsRHP/KGSfoXJt/WbU+Jfyov+nDOvTAvu0eZDWjSSkjpLmNGpTq9Wy6otDecr/y/qN24ZJ6jo24S7JZrMhgNjleZ5MtmeUSqUQQOj7vowKgyCI6tRut2NxtVotVl/f90PXdaOwWq0WhmEYttvt0Pf90PO8EEDoOE7o+350dbvdKM98Pp+YZz6fZzX4E1R33/ej+zzPC0ulUiwN5QcgdF03+pvqxOsRhmHY7XaNdeb1k/dI2u12lN6UluIdx4nCpil3lAx4npSW/s/Dm81mlGcQBKHjOIn1kLTb7aF7SH+8HAnXO5XD85F9j+rB68vDqU+Tnn3Wt3m/pXheN5N8TXD5UD70/0qlEks77lgZh2nGiKRYLMbqS/n4vh/VfRr9U3yxWIzdx/NpNpvR/2XdNzc3Y/lRPra2yvTNZjMEEGaz2Vi/k31fQvUm2cp6w9DXwhn2pdCSF9ePqe6TyicJkgG1XZZJ8zjlz/tENpuN2lmpVEIM+oDUM6WhcDmuKW+ShdSDw+ZJgs85NrkVi0V52xCTzrvjjH+ZB/3f9/1Yf6J44qCsG0lMOqfRnJzP54f6Bd3Dy5X1T5LdqDZMWtdxGV7JJoQqIC/TZLMX2Iy/zc3NqDPJBYUmWdd1hwYwH7i8s9E9shyC6uEMFggOTSgwTGhcZjYl8jR8YeYDWC7Y1JnkxMEH2TiDhE9oEpq8uXynKXeUDLgxFARBFL65uRm1H6LPtdvt0HXdofz4ZCvjqO58MQhZ+XRxeP+TkxMtxrLPUDmyn/DJQvbZkPVBGPTdZEaJlL0JqhvXRbfbDUulUixsmrFiY9oxYsMmx3CX+if5U5v4OKP6c1mQLF3XZbn96cE4n8/H+myYkJ7rV8poc3MzipN6sNW72+3G+jRnln2p2+1G6WV/4i8H5DiYVD42qB9KA6HZbA7NNaZ+z+EGtOd5Q3XjLxQ43W43uk/qgd/DdcrlxuXc7XajesDQT01MOu+a5GAa/6HBuJOY4g/CumFjmjmNrwGyX/CHRYlJNpxRbZimruNir9WY8MrzyzQh7wVyYeaX4zhDHSZkbytti4xpUSElyAmMsC0oBA02OQlTXU31JCiNKW/qeLxe9GTlGd5uhGO0hUPyNaWlAU5ymrbcUTJIki1/yhy3z5kmPp6PnPBDYZxwqG62wWe6x9S/eLiUD0H9lk+aHD4ZjILKMsmUM81YsZGkxzBhjNiYpGyOSf8hy88kXz7By0nYZhDYsKWn8WEqIwxD6yKYVG9uNHJm2ZdobNiMNSrL1q8lNvnYoDlKysUEycrWn0nGjuMY5wGSp2wL6c4mU4rjfXVUf6fxYuoLnGnm3XHHf2iZwzim+IOwbtiYZk6j9sgHjJAZ/vKe0CIbzqg2TFPXcbHXakz4kx1dNiXuBaQUx/Cq2De8jQnZoPLY5yJ+UTxXiK0D8rgkJdvSmMIkSWlM9aLJmMuEXzTB2fLk8ImYT4Y0YPmEP225pjCCG2U2KH7cAWBaLKjuJv2GFv3xusm20mWqG4XL+trCCVNeknHShEJXSQvANGPFhEl+knHScEbJy4ZJ/+GI/JIWs3ACuROmdprGMmeaeoeWssap7zhpQrYGyHoRo2RnwlRnG7wv2xZJgvI1rQshi5dvQwlqi3xDxdchmTc3DmgO5W/9TMYdv2cU08y7447/cAxdmOJv9LqRxDRzmm3sEb5lDI6q46j4aeo6LvZSx6Tb7cb2R2TFJ7O9xjSx8FfFJkOUBD7q4hNJ0sRMcaayCNvCZgqTJKUx1YtkMupKqi+HZMknRHoTwifBaculcBM2uXEoXg68cHB/qVSKDRh68jQNbpN+Q0s9eFjS5Yi3CLaJwhZOUH5J44vS2PLg8E9LjuOExWJx6G2HbIvtGrXo7maM2Bglr3AC/Ycj8hvVP6je8t5utxtWKpUwn8/H6mBqp2ksc2wLUFK9Q8v4orBZ9CUqX9aLSJLdJPKx0WWftzEwLEz90WR4cEj+JgOOIENXGkwULo3CkOXLy6U3iLa62N4wmph23h1n/IeW/sOxxd/IdSMJma/t4n3INvYI2xgcVcdx40ddpv4+il2f9l1cXMQLL7yA69evIwxD1Ov12CnbG8Hi4iIuXrwIx3Gwvb09dHKGaDabCP9kABuvw+6Hzff9oTbx6+rVq/IWI08//TQA4LXXXovC1tfXAQCPP/54FEbMqtzd0Ov1kMlksLKygtXVVTQajeiin4ObJbKN/DqoPrAuXLiAdrsd+cM8f/48XNc1jpfDNlb2W/8m6vU6jh8/jjNnzmB9fT1WB2V28qH5vlarwXVdBEGABx98cOjk+kcffQQA8DwvFk788Y9/BADcf//91jVse3sbMLiJofAHHnggFg4A7733HiDK/cMf/jAUxnnrrbcAAHfddZeMsjLpvDvJ+J+Gg75uHKY5bS/qumvj76CyuLgYdep/+qd/ktF7Ak0AJr744gtg4BX+sEFe7Le3t9HpdLC1tYV+vw/P8w6kUQMA586dQ6PRgOd52NzcRLfbjQZKqVSSyQ8VtIhJuDuEm266KRZnY2lpCRcuXMDHH38cjRfpWmaW7NcYudH673Q6OH36NPr9PkqlEtrtdmyyPijMsi9Nwl7IJ5fL4dq1a5F+V1dXY/G///3vAQB33nlnLJwYFd/r9aIHh6WlJWP4iRMnonDigw8+AES+pjCi0+lEBthf/uVfyuiZspfj/zCuG/PEkTX+wJ4utre3Yz6WstksAOD111+PwnYDfwqUvp8IepJL8n00K3zfBwY+CU1+5iZlcXExktm//uu/Rm35/ve/H0s363IhJlOTbJN8ZwHAT37yE5w8edL6JE+Qt/9Go2H0KfXhhx/KIJw4cSIyVGb1tJwEvSV4++23ZRQA4NKlS8Dg5+P44jQOi4uLuHDhAiA80s9qrOz3GJlU/7Pm008/BQY6O3v27MT62Gtm2ZfuvfdeAMAbb7whowBm6HD2Uj6mt0oA8P777wMJv+wxKt725tAWTtADD8836ZeiCoVCNAblG0YTs5h3beN/N9zIdSOJWc1p+8Fe1vVIG3/Hjh2LOhZ3Wvroo48Cg1fQJmemW1tb1qcfk3HA3zI+8sgjQwZJtVqNXnc/+eSTsbi9YGlpKZqIstns0IDqdDool8vWRdgEyWxjYyMydE6dOhVLsxflAohk+9xzz8Vkv7W1hW9961ss5TA04RD1eh0vvfRSLAwDQ45+c/fcuXOxuHK5jDNnzsTCCP60LB1u9no91Ov1oc9P00KfUc6fPz9kbJKzXAB45plnYnEmTI5JSS/8zdtuxgpnL8eIzYDBBPrfK4IgiLW10+nMxLjdLbPsSzQPyC02vV4PuVwOGxsbLHWc3cinM3C2K+eZl19+GWBGhYTeMEvoc7PtN2rp8+3y8vJY4RBvBbkhRwbzq6++Gs1pJC/+a1TjGMXTzLvjjn/OpPM2bvC6YWNWc9okTFv3Pa2r3AR42EjaTBwKB4l8E6/c7EobjengimNwcUAbxSk938jPD5mAnc6he2DYJBz+6ftGOEoNSWlsm8TbzJ8Zrw+vo+1Emw2en809wTTlJrUvtDjsJbl6zAku32zLXVy4Ayem/B4YNu+a7qFyeX/hSL3TfXwDupSVbXOwLZzD60Fl8fJNbiZMyL6cpJ9pxooJKatxx4gNPrapH1D7Tbocpf8k+Y+aZ6gsfi9vK+8TjuNEdeHYxjJh23SeVO8wYXzNqi+FFofNPB9TuyaVj4Tkxe/n/VqeoqVDGXz+JpnRYZCkvkz3y/FhCw8thz1CcRqWZE/lm9x3jWLSeXfa8U8y5uOU4mzwesm5kJi0/uEY5SYx6ZxmG3sE6U+Owd3KLpyiruOSXOohgJSSNFGRkOSJmM3NzTCbzcY6ne/71lNP7YGXeJ6W0x04yeQd1nGcMJ/PD01ExDjKS+ogSQsGncTm9XFdN8xmsxMtsgSf4KUsOZOWO44MgiAI88y7uuu60UCkyVfKeJM5+sZgQqlUKtFEbxrIzWYz5r7I87yorY7jWOtZqVRifYMGaaVSGTo5SOlkfW3hklqtFisLg0k1SScSkic3vHzft+Yx6VixMc0YSaJUKsUmQV7/SfVvm8BD5o7CtnhRHXgbugNnvbx+1E7qY5yksRwmLEBJ9Q5HzB+z6EtErVaLyTubzYbtdjuSt5TdpPIxIct0XTcsFotDYy40zN+8PvSwIOvIoXJkP7WFh+wBxbQ+8f5JbQ+CIOprppPDSUwy704y/klPPE8+5qn+Nm7kupHEJHOabewRtjG4W9kRk9R1XFLhnyqgKIqiKMoNhj6V12q1sT+BK8qkHOk9f4qiKIpymHjnnXeAMQ97KMq0qPGnKIqiKPtILpdDuVyOHWDr9XrRSV/f98c67KEo06KffRVFURRlH1leXsb29jYcx8Hdd98NALhy5Qr6/X704wTqC0/ZS9T4UxRFUZR9pNfr4dy5c3jnnXciVzCe5+Ghhx7C448/vu9+KZX5Q40/RVEURVGUOUL3/CmKoiiKoswRavwpiqIoiqLMEWr8KYqiKIqizBFq/CmKoiiKoswRavwpiqIoiqLMEWr8KYqiKIqizBFq/B1AUqkUFhYWZPBc0Ol0jkT7O50OFhYWkEqlYl78lYNBq9XCwsLCoe9nB51qtYp0Oh2N6Wq1KpOMxVGYE5SDy/LyMlKpFLa2tmTUkUWNvwNKv9+XQXPBp59+ChyB9heLRfT7fdRqtV05bO31eiiXy3M1Ke0HTz31FPr9Pn75y1/KqInY2dlBuVzGzs6OjJp7tra2cObMGQRBAN/34boufv3rX8tkY3PY5wTlYFKtVrG9vY18Po+TJ0/K6LHY2toa+rm+A0+oHDgAhPOqmmazeejbv7m5GQII8/m8jJqYUql06OVx0KhUKiGAsFQqyaiJ8X0/BBD6vi+j5h6SzSzkrGNA2QuCIAgdxwk9zwu73a6MHhvqn7Po6/uFvvlTlBnzwx/+EJ7n4fnnn5dRE/P1r38dGPz0kzIbnn32Wfi+j7Nnz8qoiaHfX73rrrtk1NzTaDQAAL7vyyhFmYpWq4VUKoVcLiejpuJnP/sZAOC1117b1Rca13UBAHfccYeMOrDoz7sdQFKpFPCnx1wZdeRptVpYWVkB5rT9inJUmOU8Nsu8lMMLrQ++7+PixYsyWpkAffOnKIqiKIoyRxwJ4482xdOJHToZVigUrBuxt7a2kMlkovTLy8tjbaqn9En5plIpZDKZKKzT6WBtbS069Ubllcvl2L3j0Gq1kMvlopOklJftFB21EYONrXRfoVCIpaN8ufxyuRxarVYsHSHlncvlrDIx0el0UCgUovqk02lrGziT1tMEl0mr1bK2o9frDdXR1kfG1XG1Wo3qLTcH93q9qCyqg+0zR7lcRiqVQqvVQqfTiclE9uVyuRw7cSnrxJm0fyVB49IkE9l2G9R+umdtbS2mD96Wra2tmC4LhYKxHJKDJMXGbb1eH8qr0+nIWyI9SPnsRR/DjPVjY7djjO6T/+dh446XUUwyj++H7HZ2dobKyOVyqNfrsXStVium99Sg79nqfqPaOW57MBgzvI6U1lZPajPGGG80D9BXoUajESuH0vL5otPpRPVZWFiIjblqtRorL51OW+eLcdZQSmNaA2mt4309nU5jbW3NWN6+ITcBHja63W7oeV604dL3/dD3/dBxnCisVqvF7qEN+QBCz/OijckAwna7HUsryWazIYCwWCzKqDBk8ZVKJQxFWa7rhr7vx+pryofiJLVaLTEv06ZVvuma38c3qPN8SR6u60ZhUn7FYjGK43VwHCeWzka73Y704zhOrDzeHsmk9bRBMqF2UB14nZrNZvR/Wc7m5mYsv0l1THEyPJ/PD4XTARiur5AdBMnn84n1pLI8z0usUzhl/7LBxyXJl+Q+SV7U/mw2G+sjvF6lUimSHdWblyOhOAmlp/tlXo7jDNWZ9CA3es+6j4Uz1o+NWYwxqWv6vz/ow5OOl9Cis0nm8f2WHZXBZUfw+dMkY6n7G9VOU16m9oRs7rK1yXT4TbYnaby12+1YW/ic4vt+lI7mi2KxODS2ms1mdMBD5sHrLqH4pDWU0jSbzdi9prVOtlHqcL8YngEPGSRIz/PCIAii8G63G3VIx3FicdQpuaKCIAiz2eyQ8iQ0IFzXlVFht9uNlErlVSqV0Pf9oXz5wOJ1Cy0THT8FS4Ylj6MOJidO3tFMA5DydV13qBNSHfkgDIJgKCwc5GMaOCaoTtlsNpYHP9lqa/+49UxCyoS3jeRI+fGyuIHBmVTHXJd0D4XJNlA4n2hCISve97vdbqx9EAv2OHWapH/ZoDrI9F1mFEqDyQSvlzMwmAi+iEL0bz7pSoOF0kt4XlwGvF9I2Ywy/qheu+1js9aPiVmOsTBBzpOOl9CS17jz+H7ILqmPtNvtMJvNRv/PZrNhPp8faqNN9zeinZO0h8aAHJ8hO1kPg1FL4bKMpLKpjXI+JLgM5NgKB3V3XXdoTkiaL+RYNmEy/rrdbpQnnwPCQRtpHhx33Zw1wyPzENFutyOlyIFE0MDhnWjUPUlwhcqOTpOXrWNKTIM6tEx09EbR1vn45MyhTmmrE+UrByYhOzUNLjlBjcsonfHJgjNpPZOgtCZZ8jc1cuIIBoavrFsSNh1TOfQkTulk+2yTHU24pid5/qZATmShpU7T9i8TpGPbpGZrkwlKa9IHf9gy1ZsWU2mY0T2SJJmRvmSdRxl/pnpN08dmqR8bsxxjYYKckzD1zdCSF4WZ5hHOfsiO5i3ZPybBpvsb0c5J2mMzmggah9xgDKccb6PmDoqHoQ+NwjZfjFpDQ8vYIBna1kqubzkP7AeHes8fdyVALhckTzzxBADEnItms9no33H3sRCLi4vR/qvXX389Fveb3/wGAPDYY4/Fwm2k02kZZGVjYwMA8PDDD8soAIjq1O/3jW368Y9/LIMAAO+88w4A4LnnnkMmkxm6rly5AgB47733AAAnTpyA4zgIggC5XM64DyqJ3/72t0CCzm6//XYZBExRz3EwyfLmm28GANx9991YWlqKxfH6mmRswqbjv//7v4frutje3sY3v/lNBEGAbDY7sZPRhx56aMhFwVe+8pXob+oXHKoTl9Vu+xeHdBwEwZCeMpkMnnrqKYCN33Ew6YO321Tvb3zjGwCAd999V0YlYpLZAw88IIPGwlSvafrYLPVjYy/G2KTYxouJcefx/ZAdrS/33nuvjBob03yIG9TOcdvTarUi59umcQNWH6qfxHTftOON8H0fJ06ckMGJ0Hxhw7aG2iAZkg0iOXbsWOQGaZK5cFYcauOPmNTH1iuvvALP87C9vY2VlZXosMG4my//5m/+BhhsUiV6vV7Uue+7774onKjX61hbWzNOppNw2223yaBdQQN3e3sbjUZj6KJ47r/o8uXLcBwHGxsbcF0XmUzGuAHYxOeffy6DxmKaeu43k+h4cXER//zP/wwMjCTHcXD+/HmZbN+ZRf8iHff7/SE9NRoNbG9vA+q7cCpmoR8b+z3GJhkvJiadx/dSdsQ999wjg4zQoYNCoRBrv4kb2c5x23PYxnKr1UK5XI7J/tVXX5XJZsKsxsusORLG36QsLi7i6tWr2NzcRDabRRAEOHPmDI4fP248rSM5efIkXNdFv9+PTjK9+eabAIB8Ph97I7Gzs4N0Oo3Tp0/j/Pnzxsn0INBsNjHYBmC8+BuppaUlfPzxx6jVavA8D41GA6dPn8by8rJ1QpoVk9Rzv5hWx//5n/8Z/d3v96Oftjsq+L4/pB9+Xb16Vd6iHAD2eoxNO14ku53HbxT1eh3Hjx/HmTNnsL6+Hmu/icPazoNIr9dDJpPBysoKVldXY7IPgkAmP9IcCePv/fffl0ER9Bbiq1/9qozCyZMnUa/XEQQBPM9Dv9/Hiy++KJMZoVfxb731FjDwEA72VpD4zne+E33Sk5PqNJ7vP/roIxkEDDo1cdNNN8Xi9gL6/H316lU0m004joPt7e3ICJ4nptFxp9PBs88+CwweGDDBdoG95KD0L8XMUdDPNOMliXHn8f2Q3ahP4p1OB6dPn0a/30epVEK73Y61P4kb0c5R7SHobb6JL774AgDgOI6M2nfOnTuHRqMBz/OwubmJbrcbyb5UKsnkM+EPf/iDDIogndBWkP3kUBt/9Dq10WhY3zjRp9hvf/vbMiri2LFj+PnPfw4A+Oyzz2S0ke9+97sAgPX1dezs7GB7exuO4ww9FdPTxCuvvDLxHgQOvVZ/++23ZRQA4NKlS8DgZ2bkPqIkyIiV+xcn4cSJE/jRj34EjPFZlz4j2HT24YcfyiBgRvXcK6bRcaFQiBaA559/Hq7rIgiCif2czYpZ9i++j2XSPaGKmVnqx8Z+jbFpxss42Obx/ZAdbT0atb+U3u57noezZ89OVd5+tHPc9vBPzDZ/fvSCxLS3b7+h+egnP/kJTp48ObRfepaQDN944w0ZBQzqQkazaavYXnOojT/6/IqBk0VuTPQGzlODIIDrupFwd3Z2sLy8PLThlQaM6Q2hiaWlpWiwff/73wfYGxwTNPDAnN/aXvObePrppwEA58+fH9pf1xo4DAWAZ555JhY3ikcffRQYGLEmJ6BbW1sxZ5bVanXooEev14smiVFPMCdOnIh0du7cuVhcuVzGmTNnYmHEpPW8EYyr42q1ikajAdd1cfbsWSwuLuIXv/gFAGB1dfWGfMqZZf/iYyObzQ4ZgJ1OB+Vy2bpYKMNMqx9yZDuOrPd7jI07XkxMMo/vh+wef/xxYPDAI2VHTn75+hQEQWycdwaO2iX70U4T47ZncXExWvceeeSRobmrWq1ifX0dAPDkk0/G4naD7eXBuJBBStTrdbz00kuxsN1CMtze3h4aN51OJ3aQhx/22Rr8UMQkh5+mQh7/PWxw/zx0HNsXzlT5MWp+vNo1OK6c5Mg1d0tiu9fk0JPqRn5+5JF0Si+ho+i87pQHLEf8TUfQJTxfhzmi5DIkuC8u2R7XdYfcjpgwOXmlPHhdJJPUM4kkmZDrDtuxfiqf3zuJjpNcBZGrBl62zbWBzcVIKNwdmKD2y3un6V825LgkufD8pA8vE7b2E5SXlGWYoEubbGzhYUI9bHqYdR8Lp9QPxcn62ZjVGAsT5DnJeCFkXpPO4/shO94uUxlUJx5G8sVAttQGYj/aaWPc9nDfnWA65fU0uXOhOBO28RYyd0DUPx3mxzfpvtCy9lB+1Aapb9KP7JMcWxq+XvLxRGGewVUXzQ8w6HeWmCV/yAiCIMzn87HO5rpuWCwWhwQbDjpINpuNTWjZbHZiQXNnlJ7Fp1k4UCavWzabDTc3NyPjUXYYqpOJWq0W6zw8PxOUdlTbNjc3YzLBYAAVi8Uh/1KyDq7rhnnhxHIUpAPKw/O8qA2O41jbP0k9bdgGasgMeumTiqBypTzH1TFNqKZJmPcnkgVNZrI+NqMjZH72bDIkuZuML6lb3pZJ6Xa7YbFYjC0MruuG2WzWuBiYGDWZ2/QRJujSJhuqowlbPUgPUpZ70cfCKfRDaWzxJmYxxkLWDhPjjhcCBp1NOo/vl+x4GVQn3t+7gx8g4PXO5/Nhe+A8Wcpsr9uZxDjtCQdtKpVKsbHO22WC0pmwjbeQ/doH3c/T2OZLzib75SMM1p5KpRLNm3JOpbJs7QhHpJH642Wa2BwYqK7FP+CsSIV/UoKiKIpyhGi1WlhZWYHrurh27ZqMVhJQ2SlHnUO9509RFEUx89Of/hQAov2kyvio7JSjjr75UxRFOWJ0Oh24rotsNju0+V9JRmWnzAP65k9RFOWI8bOf/QyO4+CVV16RUcoIVHbKPKBv/hRFURRFUeYIffOnKIqiKIoyR6jxpyiKoiiKMkeo8acoiqIoijJHqPGnKIqiKIoyR6jxpyiKoiiKMkeo8acoiqIoijJHqPGnKIqiKIoyR6jxpyiKoiiKMkeo8acoiqIoijJHqPGnKIqiKIoyR6jxpyiKoiiKMkeo8acoiqIoijJHqPGnKIqiKIoyR/z/Lj4YmVUlqhwAAAAASUVORK5CYII=)"
      ],
      "metadata": {
        "id": "tRw45p_WLnU9"
      }
    },
    {
      "cell_type": "markdown",
      "source": [
        "# Definindo a função\n",
        "\n",
        "O código deve apresentar o seguintes conteúdos:\n",
        "\n",
        "1. **Anotações de tipo** (`str`, `int`) para maior clareza.\n",
        "2. Estrutura `try-except` para capturar erros de validação.\n",
        "3. Mensagens **informativas e amigáveis**.\n",
        "4. `raise ValueError` para sinalizar usos incorretos.\n",
        "\n"
      ],
      "metadata": {
        "id": "kAoPbS-gQA4W"
      }
    },
    {
      "cell_type": "code",
      "source": [
        "def valida_string(texto: str, min_caracteres: int = 5, max_caracteres: int = 10) -> bool:\n",
        "    \"\"\"\n",
        "    Valida se uma string tem um tamanho dentro de um intervalo especificado.\n",
        "\n",
        "    Args:\n",
        "        texto (str): A string a ser validada.\n",
        "        min_caracteres (int): O número mínimo de caracteres permitidos.\n",
        "        max_caracteres (int): O número máximo de caracteres permitidos.\n",
        "\n",
        "    Returns:\n",
        "        bool: True se o texto for uma string e seu tamanho estiver entre min_caracteres e max_caracteres.\n",
        "              False caso contrário, incluindo erros de tipo ou tamanho.\n",
        "    \"\"\"\n",
        "    try:\n",
        "        if not isinstance(texto, str):\n",
        "            raise ValueError(f\"{texto} deve ser uma string.\")\n",
        "        if not min_caracteres <= len(texto) <= max_caracteres:\n",
        "            raise ValueError(f\"{texto} não contém entre {min_caracteres} e {max_caracteres} caracteres.\")\n",
        "        print(f\"{texto} é VÁLIDO, pois contém entre {min_caracteres} e {max_caracteres} caracteres.\")\n",
        "        return True\n",
        "    except Exception as e:\n",
        "        print(f\"Erro ao validar: {e}\")\n",
        "        return False"
      ],
      "metadata": {
        "id": "08FiiVexL0RT"
      },
      "execution_count": 1,
      "outputs": []
    },
    {
      "cell_type": "markdown",
      "source": [
        "# Exibindo o `docstring` da função."
      ],
      "metadata": {
        "id": "3gjx_pZGSL5E"
      }
    },
    {
      "cell_type": "code",
      "source": [
        "print(valida_string.__doc__)"
      ],
      "metadata": {
        "colab": {
          "base_uri": "https://localhost:8080/"
        },
        "id": "PaISYlN9STcT",
        "outputId": "bee51abc-7475-462d-e9be-7f4e0cf17d43"
      },
      "execution_count": 2,
      "outputs": [
        {
          "output_type": "stream",
          "name": "stdout",
          "text": [
            "\n",
            "    Valida se uma string tem um tamanho dentro de um intervalo especificado.\n",
            "\n",
            "    Args:\n",
            "        texto (str): A string a ser validada.\n",
            "        min_caracteres (int): O número mínimo de caracteres permitidos.\n",
            "        max_caracteres (int): O número máximo de caracteres permitidos.\n",
            "\n",
            "    Returns:\n",
            "        bool: True se o texto for uma string e seu tamanho estiver entre min_caracteres e max_caracteres.\n",
            "              False caso contrário, incluindo erros de tipo ou tamanho.\n",
            "    \n"
          ]
        }
      ]
    },
    {
      "cell_type": "markdown",
      "source": [
        "# Exemplos de uso:\n",
        "* valida_string(\"Python\")\n",
        "* valida_string(123)\n",
        "* valida_string(\"Olá, Mundo!\", min_caracteres=1, max_caracteres=15)\n",
        "* valida_string(\"MuitoLongoParaSerValidado\", min_caracteres=1, max_caracteres=15)"
      ],
      "metadata": {
        "id": "Q_qJSGH_Pkco"
      }
    },
    {
      "cell_type": "code",
      "source": [
        "valida_string(\"Python\")"
      ],
      "metadata": {
        "colab": {
          "base_uri": "https://localhost:8080/"
        },
        "id": "dUuonhb0Pk3O",
        "outputId": "99b17c11-c79f-4d25-c704-d625e2ed45d9"
      },
      "execution_count": 3,
      "outputs": [
        {
          "output_type": "stream",
          "name": "stdout",
          "text": [
            "Python é VÁLIDO, pois contém entre 5 e 10 caracteres.\n"
          ]
        },
        {
          "output_type": "execute_result",
          "data": {
            "text/plain": [
              "True"
            ]
          },
          "metadata": {},
          "execution_count": 3
        }
      ]
    },
    {
      "cell_type": "code",
      "source": [
        "valida_string(123)"
      ],
      "metadata": {
        "colab": {
          "base_uri": "https://localhost:8080/"
        },
        "id": "zmq6TiSsPw0Z",
        "outputId": "b7cec4c3-a627-4d0a-e9ba-acb96c71a4aa"
      },
      "execution_count": 4,
      "outputs": [
        {
          "output_type": "stream",
          "name": "stdout",
          "text": [
            "Erro ao validar: 123 deve ser uma string.\n"
          ]
        },
        {
          "output_type": "execute_result",
          "data": {
            "text/plain": [
              "False"
            ]
          },
          "metadata": {},
          "execution_count": 4
        }
      ]
    },
    {
      "cell_type": "code",
      "source": [
        "valida_string(\"Olá, Mundo!\", min_caracteres=1, max_caracteres=15)"
      ],
      "metadata": {
        "colab": {
          "base_uri": "https://localhost:8080/"
        },
        "id": "_0_kIdX6P0Co",
        "outputId": "a019f83d-399e-4e61-aa0b-2144de929f6c"
      },
      "execution_count": 5,
      "outputs": [
        {
          "output_type": "stream",
          "name": "stdout",
          "text": [
            "Olá, Mundo! é VÁLIDO, pois contém entre 1 e 15 caracteres.\n"
          ]
        },
        {
          "output_type": "execute_result",
          "data": {
            "text/plain": [
              "True"
            ]
          },
          "metadata": {},
          "execution_count": 5
        }
      ]
    },
    {
      "cell_type": "code",
      "source": [
        "valida_string(\"MuitoLongoParaSerValidado\", min_caracteres=1, max_caracteres=15)"
      ],
      "metadata": {
        "colab": {
          "base_uri": "https://localhost:8080/"
        },
        "id": "pGOBa06dP2rN",
        "outputId": "898fad50-6203-408d-e40e-899a3334f8ca"
      },
      "execution_count": 6,
      "outputs": [
        {
          "output_type": "stream",
          "name": "stdout",
          "text": [
            "Erro ao validar: MuitoLongoParaSerValidado não contém entre 1 e 15 caracteres.\n"
          ]
        },
        {
          "output_type": "execute_result",
          "data": {
            "text/plain": [
              "False"
            ]
          },
          "metadata": {},
          "execution_count": 6
        }
      ]
    }
  ]
}