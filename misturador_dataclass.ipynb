{
  "nbformat": 4,
  "nbformat_minor": 0,
  "metadata": {
    "colab": {
      "provenance": [],
      "authorship_tag": "ABX9TyMVa8dh+GUWZ7rH+5pp9Z+X",
      "include_colab_link": true
    },
    "kernelspec": {
      "name": "python3",
      "display_name": "Python 3"
    },
    "language_info": {
      "name": "python"
    }
  },
  "cells": [
    {
      "cell_type": "markdown",
      "metadata": {
        "id": "view-in-github",
        "colab_type": "text"
      },
      "source": [
        "<a href=\"https://colab.research.google.com/github/juliosdutra/FundamentosComputacionais/blob/main/misturador_dataclass.ipynb\" target=\"_parent\"><img src=\"https://colab.research.google.com/assets/colab-badge.svg\" alt=\"Open In Colab\"/></a>"
      ]
    },
    {
      "cell_type": "code",
      "execution_count": 1,
      "metadata": {
        "id": "7iT5VVDQSCd0"
      },
      "outputs": [],
      "source": [
        "from dataclasses import dataclass\n",
        "\n",
        "#@title Definições de Corrente e misturador\n",
        "@dataclass\n",
        "class Corrente:\n",
        "    \"\"\"\n",
        "    Representa uma corrente de entrada no misturador.\n",
        "\n",
        "    Atributos:\n",
        "        F (float): Vazão mássica da corrente (kg/h).\n",
        "        X (float): Concentração de sal na corrente (fração mássica).\n",
        "    \"\"\"\n",
        "    F: float\n",
        "    X: float\n",
        "\n",
        "def misturador(c1: Corrente, c2: Corrente):\n",
        "    \"\"\"\n",
        "    Calcula a vazão e concentração de sal na corrente de saída de um misturador.\n",
        "\n",
        "    Parâmetros:\n",
        "        c1 (Corrente): Primeira corrente de entrada.\n",
        "        c2 (Corrente): Segunda corrente de entrada.\n",
        "\n",
        "    Retorna:\n",
        "        tuple: (F_out, X_out)\n",
        "            - F_out (float): Vazão mássica total na saída (kg/h).\n",
        "            - X_out (float): Concentração de sal na saída (fração mássica).\n",
        "    \"\"\"\n",
        "    F_out = c1.F + c2.F\n",
        "    X_out = (c1.F * c1.X + c2.F * c2.X) / F_out\n",
        "    return F_out, X_out"
      ]
    }
  ]
}