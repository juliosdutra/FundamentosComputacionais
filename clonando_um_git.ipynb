{
  "nbformat": 4,
  "nbformat_minor": 0,
  "metadata": {
    "colab": {
      "provenance": [],
      "authorship_tag": "ABX9TyPnd+ruMZ78GzcC/RqDUBlE",
      "include_colab_link": true
    },
    "kernelspec": {
      "name": "python3",
      "display_name": "Python 3"
    },
    "language_info": {
      "name": "python"
    }
  },
  "cells": [
    {
      "cell_type": "markdown",
      "metadata": {
        "id": "view-in-github",
        "colab_type": "text"
      },
      "source": [
        "<a href=\"https://colab.research.google.com/github/juliosdutra/FundamentosComputacionais/blob/main/clonando_um_git.ipynb\" target=\"_parent\"><img src=\"https://colab.research.google.com/assets/colab-badge.svg\" alt=\"Open In Colab\"/></a>"
      ]
    },
    {
      "cell_type": "code",
      "execution_count": null,
      "metadata": {
        "id": "cLMEe0FL_GLR"
      },
      "outputs": [],
      "source": [
        "# Clonar repositório com o módulo desejado\n",
        "!wget -q https://raw.githubusercontent.com/juliosdutra/FundamentosComputacionais/main/Misturador_sal.ipynb\n",
        "\n",
        "# Rodar o módulo para carregar as funções\n",
        "%run Misturador_sal.ipynb"
      ]
    },
    {
      "cell_type": "code",
      "source": [
        "# Exibir as funções carregadas\n",
        "import inspect\n",
        "\n",
        "for name, obj in globals().items():\n",
        "    if inspect.isfunction(obj):\n",
        "        print(name)"
      ],
      "metadata": {
        "colab": {
          "base_uri": "https://localhost:8080/"
        },
        "id": "xiiG-RnmCMBE",
        "outputId": "8d344eb0-765e-4be6-895e-e4ced61bbcb2"
      },
      "execution_count": 2,
      "outputs": [
        {
          "output_type": "stream",
          "name": "stdout",
          "text": [
            "misturador\n",
            "resolve_misturador\n"
          ]
        }
      ]
    },
    {
      "cell_type": "code",
      "source": [
        "# Help das funções desejadas\n",
        "help(misturador)"
      ],
      "metadata": {
        "id": "JOYg_WtBAG3B",
        "colab": {
          "base_uri": "https://localhost:8080/"
        },
        "outputId": "0e1733a2-a542-4fd6-c4ea-357e123e682f"
      },
      "execution_count": 3,
      "outputs": [
        {
          "output_type": "stream",
          "name": "stdout",
          "text": [
            "Help on function misturador in module __main__:\n",
            "\n",
            "misturador(FA, xA, FB, xB)\n",
            "    Calcula a vazão total e a concentração de saída de um misturador em regime estacionário.\n",
            "    \n",
            "    Aceita entradas escalares ou arrays NumPy para simulações múltiplas. Realiza validações\n",
            "    de domínio para evitar concentrações fora do intervalo [0, 1], vazões negativas ou\n",
            "    divisão por zero.\n",
            "    \n",
            "    Parâmetros:\n",
            "    ----------\n",
            "    FA : float ou array-like\n",
            "        Vazão da corrente A (kg/h). Deve ser >= 0.\n",
            "    xA : float ou array-like\n",
            "        Concentração da espécie na corrente A (fração entre 0 e 1).\n",
            "    FB : float ou array-like\n",
            "        Vazão da corrente B (kg/h). Deve ser >= 0.\n",
            "    xB : float ou array-like\n",
            "        Concentração da espécie na corrente B (fração entre 0 e 1).\n",
            "    \n",
            "    Retorno:\n",
            "    -------\n",
            "    dict ou None\n",
            "        Um dicionário com as chaves:\n",
            "            - 'F_total': array ou float com as vazões totais (kg/h)\n",
            "            - 'x_saida': array ou float com as concentrações de saída (fração)\n",
            "        Retorna None se houver erro de validação.\n",
            "    \n",
            "    Exceções:\n",
            "    --------\n",
            "    ValueError\n",
            "        É levantado internamente para entradas inválidas (vazão negativa, concentração fora dos limites, etc.),\n",
            "        mas tratado dentro da função com impressão da mensagem de erro.\n",
            "    \n",
            "    Exemplos:\n",
            "    --------\n",
            "    >>> misturador(100, 0.10, 50, 0.30)\n",
            "    {'F_total': 150.0, 'x_saida': 0.16666666666666666}\n",
            "    \n",
            "    >>> misturador([100, 80], [0.1, 0.2], [50, 60], [0.3, 0.1])\n",
            "    {'F_total': array([150., 140.]), 'x_saida': array([0.16666667, 0.15714286])}\n",
            "\n"
          ]
        }
      ]
    },
    {
      "cell_type": "code",
      "source": [
        "misturador(100, 0.10, 50, 0.30)"
      ],
      "metadata": {
        "colab": {
          "base_uri": "https://localhost:8080/"
        },
        "id": "TjdLOzGXSWfc",
        "outputId": "d64e8014-f132-47de-ea0f-6046ded3d08d"
      },
      "execution_count": 4,
      "outputs": [
        {
          "output_type": "execute_result",
          "data": {
            "text/plain": [
              "{'F_total': np.float64(150.0), 'x_saida': np.float64(0.16666666666666666)}"
            ]
          },
          "metadata": {},
          "execution_count": 4
        }
      ]
    },
    {
      "cell_type": "code",
      "source": [
        "misturador([100, 80], [0.1, 0.2], [50, 60], [0.3, 0.1])"
      ],
      "metadata": {
        "colab": {
          "base_uri": "https://localhost:8080/"
        },
        "id": "-VUnfGI1SYhE",
        "outputId": "caf0392b-f498-4f84-e6f6-2244274a0ef9"
      },
      "execution_count": 5,
      "outputs": [
        {
          "output_type": "execute_result",
          "data": {
            "text/plain": [
              "{'F_total': array([150., 140.]), 'x_saida': array([0.16666667, 0.15714286])}"
            ]
          },
          "metadata": {},
          "execution_count": 5
        }
      ]
    }
  ]
}