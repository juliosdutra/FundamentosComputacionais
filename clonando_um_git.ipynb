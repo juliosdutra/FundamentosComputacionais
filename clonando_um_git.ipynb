{
  "nbformat": 4,
  "nbformat_minor": 0,
  "metadata": {
    "colab": {
      "provenance": [],
      "authorship_tag": "ABX9TyOqm60GgB/o0o/XQU6XrBGW",
      "include_colab_link": true
    },
    "kernelspec": {
      "name": "python3",
      "display_name": "Python 3"
    },
    "language_info": {
      "name": "python"
    }
  },
  "cells": [
    {
      "cell_type": "markdown",
      "metadata": {
        "id": "view-in-github",
        "colab_type": "text"
      },
      "source": [
        "<a href=\"https://colab.research.google.com/github/juliosdutra/FundamentosComputacionais/blob/main/clonando_um_git.ipynb\" target=\"_parent\"><img src=\"https://colab.research.google.com/assets/colab-badge.svg\" alt=\"Open In Colab\"/></a>"
      ]
    },
    {
      "cell_type": "code",
      "execution_count": 18,
      "metadata": {
        "id": "cLMEe0FL_GLR",
        "colab": {
          "base_uri": "https://localhost:8080/"
        },
        "outputId": "e14c1673-d91b-434e-ce28-9783125ec2f6"
      },
      "outputs": [
        {
          "output_type": "stream",
          "name": "stdout",
          "text": [
            "misturador\n",
            "resolve_misturador\n"
          ]
        }
      ],
      "source": [
        "# Clonar repositório com o módulo desejado\n",
        "!wget -q https://raw.githubusercontent.com/juliosdutra/FundamentosComputacionais/main/Misturador_sal.ipynb\n",
        "\n",
        "# Rodar o módulo para carregar as funções\n",
        "%run Misturador_sal.ipynb\n",
        "\n",
        "# Exibir as funções carregadas\n",
        "import inspect\n",
        "\n",
        "for name, obj in globals().items():\n",
        "    if inspect.isfunction(obj):\n",
        "        print(name)"
      ]
    },
    {
      "cell_type": "code",
      "source": [
        "# Help das funções desejadas\n",
        "help(misturador)"
      ],
      "metadata": {
        "id": "JOYg_WtBAG3B",
        "colab": {
          "base_uri": "https://localhost:8080/"
        },
        "outputId": "98e19656-3f49-47d1-9315-948f20a26b95"
      },
      "execution_count": 19,
      "outputs": [
        {
          "output_type": "stream",
          "name": "stdout",
          "text": [
            "Help on function misturador in module __main__:\n",
            "\n",
            "misturador(FA, xA, FB, xB)\n",
            "    Calcula a vazão total e a concentração de saída de um misturador em regime estacionário.\n",
            "    \n",
            "    Aceita entradas escalares ou arrays NumPy para simulações múltiplas. Realiza validações\n",
            "    de domínio para evitar concentrações fora do intervalo [0, 1], vazões negativas ou\n",
            "    divisão por zero.\n",
            "    \n",
            "    Parâmetros:\n",
            "    ----------\n",
            "    FA : float ou array-like\n",
            "        Vazão da corrente A (kg/h). Deve ser >= 0.\n",
            "    xA : float ou array-like\n",
            "        Concentração da espécie na corrente A (fração entre 0 e 1).\n",
            "    FB : float ou array-like\n",
            "        Vazão da corrente B (kg/h). Deve ser >= 0.\n",
            "    xB : float ou array-like\n",
            "        Concentração da espécie na corrente B (fração entre 0 e 1).\n",
            "    \n",
            "    Retorno:\n",
            "    -------\n",
            "    dict ou None\n",
            "        Um dicionário com as chaves:\n",
            "            - 'F_total': array ou float com as vazões totais (kg/h)\n",
            "            - 'x_saida': array ou float com as concentrações de saída (fração)\n",
            "        Retorna None se houver erro de validação.\n",
            "    \n",
            "    Exceções:\n",
            "    --------\n",
            "    ValueError\n",
            "        É levantado internamente para entradas inválidas (vazão negativa, concentração fora dos limites, etc.),\n",
            "        mas tratado dentro da função com impressão da mensagem de erro.\n",
            "    \n",
            "    Exemplos:\n",
            "    --------\n",
            "    >>> misturador(100, 0.10, 50, 0.30)\n",
            "    {'F_total': 150.0, 'x_saida': 0.16666666666666666}\n",
            "    \n",
            "    >>> misturador([100, 80], [0.1, 0.2], [50, 60], [0.3, 0.1])\n",
            "    {'F_total': array([150., 140.]), 'x_saida': array([0.16666667, 0.15714286])}\n",
            "\n"
          ]
        }
      ]
    },
    {
      "cell_type": "code",
      "source": [
        "misturador(100, 0.10, 50, 0.30)"
      ],
      "metadata": {
        "colab": {
          "base_uri": "https://localhost:8080/"
        },
        "id": "TjdLOzGXSWfc",
        "outputId": "3003c24d-a8a1-4606-cb7f-da61a8be3fb8"
      },
      "execution_count": 20,
      "outputs": [
        {
          "output_type": "execute_result",
          "data": {
            "text/plain": [
              "{'F_total': np.float64(150.0), 'x_saida': np.float64(0.16666666666666666)}"
            ]
          },
          "metadata": {},
          "execution_count": 20
        }
      ]
    },
    {
      "cell_type": "code",
      "source": [
        "misturador([100, 80], [0.1, 0.2], [50, 60], [0.3, 0.1])"
      ],
      "metadata": {
        "colab": {
          "base_uri": "https://localhost:8080/"
        },
        "id": "-VUnfGI1SYhE",
        "outputId": "32563385-6a78-4424-c509-725346845c28"
      },
      "execution_count": 21,
      "outputs": [
        {
          "output_type": "execute_result",
          "data": {
            "text/plain": [
              "{'F_total': array([150., 140.]), 'x_saida': array([0.16666667, 0.15714286])}"
            ]
          },
          "metadata": {},
          "execution_count": 21
        }
      ]
    }
  ]
}