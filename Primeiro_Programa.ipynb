{
  "nbformat": 4,
  "nbformat_minor": 0,
  "metadata": {
    "colab": {
      "provenance": [],
      "authorship_tag": "ABX9TyMHFLkyHs1RnLRj0ffEkTFI",
      "include_colab_link": true
    },
    "kernelspec": {
      "name": "python3",
      "display_name": "Python 3"
    },
    "language_info": {
      "name": "python"
    }
  },
  "cells": [
    {
      "cell_type": "markdown",
      "metadata": {
        "id": "view-in-github",
        "colab_type": "text"
      },
      "source": [
        "<a href=\"https://colab.research.google.com/github/juliosdutra/FundamentosComputacionais/blob/main/Primeiro_Programa.ipynb\" target=\"_parent\"><img src=\"https://colab.research.google.com/assets/colab-badge.svg\" alt=\"Open In Colab\"/></a>"
      ]
    },
    {
      "cell_type": "markdown",
      "source": [
        "Script simples para ser usado como exemplo inicial no Colab.\n",
        "\n",
        "Criado por Julio Dutra em 22 de março de 2025.\n",
        "***"
      ],
      "metadata": {
        "id": "s_0ARAv5H2TQ"
      }
    },
    {
      "cell_type": "code",
      "execution_count": 17,
      "metadata": {
        "id": "DxETPssDHzTq",
        "colab": {
          "base_uri": "https://localhost:8080/"
        },
        "outputId": "0858fb68-d246-49f1-febc-3747f8d25eed"
      },
      "outputs": [
        {
          "output_type": "stream",
          "name": "stdout",
          "text": [
            "👋 Olá, Julio Dutra! \n",
            "Hoje é 22/03/2025, e agora são 20:56:38.\n",
            "🚀 Bem-vindo ao mundo da programação!\n"
          ]
        }
      ],
      "source": [
        "from datetime import datetime\n",
        "\n",
        "# Captura o horário e data atual\n",
        "agora = datetime.now()\n",
        "data = agora.strftime(\"%d/%m/%Y\")\n",
        "hora = agora.strftime(\"%H:%M:%S\")\n",
        "\n",
        "# Mensagem personalizada\n",
        "nome = \"Julio Dutra\"\n",
        "mensagem = f\"👋 Olá, {nome}! \\nHoje é {data}, e agora são {hora}.\"\n",
        "\n",
        "print(mensagem)\n",
        "print(\"🚀 Bem-vindo ao mundo da programação!\")"
      ]
    }
  ]
}