{
  "nbformat": 4,
  "nbformat_minor": 0,
  "metadata": {
    "colab": {
      "provenance": [],
      "authorship_tag": "ABX9TyOaFhyiKJH8b2qld/ye4EsI",
      "include_colab_link": true
    },
    "kernelspec": {
      "name": "python3",
      "display_name": "Python 3"
    },
    "language_info": {
      "name": "python"
    }
  },
  "cells": [
    {
      "cell_type": "markdown",
      "metadata": {
        "id": "view-in-github",
        "colab_type": "text"
      },
      "source": [
        "<a href=\"https://colab.research.google.com/github/juliosdutra/FundamentosComputacionais/blob/main/Primeiro_Programa.ipynb\" target=\"_parent\"><img src=\"https://colab.research.google.com/assets/colab-badge.svg\" alt=\"Open In Colab\"/></a>"
      ]
    },
    {
      "cell_type": "markdown",
      "source": [
        "**Script simples para ser usado como exemplo inicial no Colab.**\n",
        "\n",
        "<font color='green'>\n",
        "  Criado por Julio Dutra em 22 de março de 2025.\n",
        "</font>\n",
        "\n",
        "***"
      ],
      "metadata": {
        "id": "s_0ARAv5H2TQ"
      }
    },
    {
      "cell_type": "code",
      "source": [
        "from datetime import datetime\n",
        "import pytz\n",
        "\n",
        "br_fuso = pytz.timezone('America/Sao_Paulo')\n",
        "agora = datetime.now(br_fuso)\n",
        "data = agora.strftime(\"%d/%m/%Y\")\n",
        "hora = agora.strftime(\"%H:%M:%S\")\n",
        "\n",
        "# Mensagem personalizada\n",
        "nome = \"Julio Dutra\"\n",
        "mensagem = f\"👋 Olá, {nome}! \\nHoje é {data}, e agora são {hora}.\"\n",
        "\n",
        "print(mensagem)\n",
        "print(\"🚀 Bem-vindo ao mundo da programação!\")"
      ],
      "metadata": {
        "id": "e7mcy-1a6TbI",
        "outputId": "5c292b42-acf1-437a-fa06-aa943b1c7ee3",
        "colab": {
          "base_uri": "https://localhost:8080/"
        }
      },
      "execution_count": 5,
      "outputs": [
        {
          "output_type": "stream",
          "name": "stdout",
          "text": [
            "👋 Olá, Julio Dutra! \n",
            "Hoje é 09/05/2025, e agora são 08:59:28.\n",
            "🚀 Bem-vindo ao mundo da programação!\n"
          ]
        }
      ]
    }
  ]
}