{
  "nbformat": 4,
  "nbformat_minor": 0,
  "metadata": {
    "colab": {
      "provenance": [],
      "authorship_tag": "ABX9TyPchOvn19oYwUBCEDgcjzkK",
      "include_colab_link": true
    },
    "kernelspec": {
      "name": "python3",
      "display_name": "Python 3"
    },
    "language_info": {
      "name": "python"
    }
  },
  "cells": [
    {
      "cell_type": "markdown",
      "metadata": {
        "id": "view-in-github",
        "colab_type": "text"
      },
      "source": [
        "<a href=\"https://colab.research.google.com/github/juliosdutra/FundamentosComputacionais/blob/main/Mini_Manual_Markdown.ipynb\" target=\"_parent\"><img src=\"https://colab.research.google.com/assets/colab-badge.svg\" alt=\"Open In Colab\"/></a>"
      ]
    },
    {
      "cell_type": "markdown",
      "source": [
        "# Introdução ao Google Colab 🚀\n",
        "\n",
        "O Google Colab é uma plataforma gratuita baseada em nuvem para programar em Python.\n",
        "A maior vantagem é que o Colab não requer instalação local de pacotes, pois já vem pré-configurado com diversas bibliotecas populares.\n",
        "\n",
        "Além disso, permite o uso gratuito de GPUs e TPUs, facilitando:\n",
        "- A execução de códigos mais pesados (como machine learning mais complexos),\n",
        "- Simulações intensivas,\n",
        "- Resolução de grandes sistemas de equações,\n",
        "- Treinamento de redes neurais profundas, onde o processamento paralelo acelera significativamente o tempo de execução dos códigos.\n",
        "\n",
        "---\n",
        "\n",
        "# Executando Códigos no Colab ▶️\n",
        "\n",
        "Cada célula de código possui um botão de \"Play\" para executar individualmente.  \n",
        "Também é possível usar:\n",
        "- **Shift + Enter** para executar a célula atual e passar para a próxima;\n",
        "- **Menu** → **Ambiente de execução** → **Executar tudo** para rodar todas as células automaticamente.\n",
        "\n",
        "---"
      ],
      "metadata": {
        "id": "8c8ga-DselfM"
      }
    },
    {
      "cell_type": "markdown",
      "source": [
        "# 📖 Mini Manual de Markdown"
      ],
      "metadata": {
        "id": "OUZoeuj29AjW"
      }
    },
    {
      "cell_type": "markdown",
      "source": [
        "# 1. Títulos\n",
        "Use `#`, `##`, `###` para criar títulos de diferentes níveis.\n",
        "\n",
        "# Título Principal\n",
        "## Subtítulo\n",
        "### Seção menor"
      ],
      "metadata": {
        "id": "f6f51VqS9_xn"
      }
    },
    {
      "cell_type": "markdown",
      "source": [
        "# 2. Listas\n",
        "Lista não ordenada\n",
        "- Item 1\n",
        "- Item 2\n",
        "\n",
        "Lista ordenada\n",
        "1. Primeiro\n",
        "2. Segundo"
      ],
      "metadata": {
        "id": "Fp15oqKp-Byv"
      }
    },
    {
      "cell_type": "markdown",
      "source": [
        "# 3. Citações\n",
        "É útil em alguma situações com o sinal `>`:\n",
        "* Destacar trechos importantes, como definições, dicas ou explicações rápidas.\n",
        "* Apresentar falas de autores, livros, normas técnicas, artigos científicos.\n",
        "* Separar observações do restante do texto para facilitar a leitura.\n",
        "* Dar contexto histórico ou evidenciar que aquele trecho veio de outra fonte.\n",
        "\n",
        "Exemplo:\n",
        "> A inteligência é a habilidade de se adaptar às mudanças.  \n",
        "> — Stephen Hawking\n",
        "\n",
        "> ⚡ Dica: Sempre verifique se seus dados estão normalizados antes de treinar uma rede neural.\n",
        "\n",
        "A citação também pode ser ter identação dupla ou mais, acumulando os sinal `>`:\n",
        "> Citação identação simples.\n",
        ">> Citação identação dupla.\n",
        ">>> Citação identação tripla."
      ],
      "metadata": {
        "id": "_uoCRtEa-FOP"
      }
    },
    {
      "cell_type": "markdown",
      "source": [
        "# 4. Blocos de Código\n",
        "` ```python Coloque seu código aqui. ``` `\n",
        "\n",
        "Exemplo real:\n",
        "```python\n",
        "import numpy as np\n",
        "import matplotlib.pyplot as plt\n",
        "\n",
        "x = np.linspace(0, 10, 100)\n",
        "y = np.sin(x)\n",
        "\n",
        "plt.plot(x, y)\n",
        "plt.title(\"Exemplo simples no Colab\")\n",
        "plt.show()\n",
        "\n",
        "```"
      ],
      "metadata": {
        "id": "1RDgI0QN-HuW"
      }
    },
    {
      "cell_type": "markdown",
      "source": [
        "# 5. Ênfase de Texto\n",
        "* **Negrito**: `**texto**`→ **texto**\n",
        "* *Itálico*: `*texto*`→*texto*\n",
        "* ~Tachado~: `~texto~`→~texto~"
      ],
      "metadata": {
        "id": "6ecqpnc_-LG3"
      }
    },
    {
      "cell_type": "markdown",
      "source": [
        "# 6. Linha de Separação\n",
        "Três hífens ou asteriscos criam uma linha horizontal:\n",
        "\n",
        "---"
      ],
      "metadata": {
        "id": "YBGjFBvz-NQL"
      }
    },
    {
      "cell_type": "markdown",
      "source": [
        "# 7.  Links e Imagens\n",
        "\n",
        "**Link**: `[texto](URL)`\n",
        "\n",
        "**Imagem**: `![texto alternativo](URL)`\n",
        "\n",
        "Exemplo:\n",
        "[Visite o Google](https://www.google.com)\n",
        "\n",
        "![Logo Python](https://upload.wikimedia.org/wikipedia/commons/c/c3/Python-logo-notext.svg)"
      ],
      "metadata": {
        "id": "M18U3ZxD-PqL"
      }
    },
    {
      "cell_type": "markdown",
      "source": [
        "# 8. Emojis\n",
        "Você pode adicionar emojis apenas colando emojis diretamente.\n",
        "\n",
        "🚀 🔥 🎯 📚\n",
        "\n",
        "➡️ ⬅️ ⬆️ ⬇️"
      ],
      "metadata": {
        "id": "64IwgQr0-SAG"
      }
    },
    {
      "cell_type": "markdown",
      "source": [
        "# 9. Equações, tabela ou quadros usando código em LaTeX dentro de Markdown\n",
        "\n",
        "Se você está usando um editor Markdown com suporte para LaTeX (como o Jupyter Notebook ou Google Colab, por exemplo), a renderização da equação será feita automaticamente. Pode-se escrever equações entre `$` ou `$$`, este último gera equações centralizadas.\n",
        "\n",
        "**Aqui está um exemplo de equação quadrática:**\n",
        "\n",
        "A equação quadrática é dada por:\n",
        "\n",
        "$ ax^2 + bx + c = 0 $\n",
        "\n",
        "A solução dessa equação é:\n",
        "\n",
        "$$ x = \\frac{-b \\pm \\sqrt{b^2 - 4ac}}{2a} $$\n",
        "\n",
        "**Exemplo de tabela:**\n",
        "\n",
        "| Variável | Descrição                    |\n",
        "|:---------|:-----------------------------|\n",
        "| $a$      | Coeficiente de $x^2$         |\n",
        "| $b$      | Coeficiente de $x$           |\n",
        "| $c$      | Termo constante              |\n",
        "\n",
        "ou então com expressões matemáticas mais elaboradas\n",
        "\n",
        "| Fórmula    | Significado |\n",
        "|:-----------|:------------|\n",
        "| $$x = \\frac{-b \\pm \\sqrt{b^2-4ac}}{2a}$$ | Fórmula de Bhaskara |\n",
        "| $$\\Delta = b^2 - 4ac$$                   | Discriminante da equação quadrática|\n",
        "\n",
        "\n",
        "Além da versão com LaTeX, é possível criar tabelas simples com Markdown tradicional:\n",
        "\n",
        "| Variável | Descrição         |\n",
        "|----------|-------------------|\n",
        "| T        | Temperatura (K)   |\n",
        "| P        | Pressão (bar)     |\n",
        "| V        | Volume ($cm^3$)   |\n"
      ],
      "metadata": {
        "id": "2U5b02UE-UkG"
      }
    },
    {
      "cell_type": "markdown",
      "source": [
        "# 10. Texto colorido\n",
        "O Markdown puro não suporta mudar cor de texto diretamente.\n",
        "Mas no Google Colab (e no Jupyter Notebook) podemos usar HTML dentro do Markdown para colorir.\n",
        "\n",
        "> 👉 Para colorir um texto, use a tag `<font>` com o atributo `color`.\n",
        "\n",
        "**Exemplos:**\n",
        "\n",
        "<font color='red'>Este texto está em vermelho.</font>\n",
        "\n",
        "<font color='blue'>Este texto está em azul.</font>\n",
        "\n",
        "<font color='green'>Este texto está em verde.</font>\n",
        "\n",
        "---\n"
      ],
      "metadata": {
        "id": "kKvVw-OF0l9X"
      }
    },
    {
      "cell_type": "markdown",
      "source": [
        "# Extra 1: Checkbox (Caixas de tarefas)\n",
        "Ótimo para acompanhar o progresso de atividades ou etapas:\n",
        "\n",
        "- [x] Importar bibliotecas  \n",
        "- [ ] Normalizar os dados  \n",
        "- [ ] Treinar o modelo  \n",
        "- [ ] Avaliar desempenho"
      ],
      "metadata": {
        "id": "1ecirZ8nFkOl"
      }
    },
    {
      "cell_type": "markdown",
      "source": [
        "# Extra 2: Spoilers ou seções recolhíveis (via HTML)\n",
        "\n",
        "Ideal para mostrar respostas ou detalhes sob demanda:\n",
        "\n",
        "Exemplos:\n",
        "\n",
        "\n",
        "<details>\n",
        "  <summary>Clique para ver a resposta</summary>\n",
        "  A resposta correta é <b>42</b>.\n",
        "</details>\n",
        "\n",
        "### Qual a função principal de uma coluna de destilação fracionada?\n",
        "\n",
        "<details>\n",
        "  <summary>Clique para ver a resposta</summary>\n",
        "  A função principal é <font color='blue'><b>separar misturas líquidas em seus componentes com base nas diferenças de ponto de ebulição</b></font>, promovendo o contato entre vapor ascendente e líquido descendente ao longo da coluna, com uso de pratos ou recheios.\n",
        "</details>\n",
        "\n",
        "\n",
        "### Qual biblioteca Python é mais adequada para análise numérica e manipulação de arrays?\n",
        "\n",
        "A) matplotlib  \n",
        "B) pandas  \n",
        "C) scikit-learn  \n",
        "D) numpy\n",
        "\n",
        "<details> <summary>Clique para ver a resposta</summary> ✅ <font color='green'><b>Alternativa D está correta.</b></font> A biblioteca <code>numpy</code> é amplamente utilizada em Engenharia Química para análise numérica, simulação de modelos e manipulação de arrays multidimensionais, sendo essencial em rotinas de cálculo vetorizado e integração com outras bibliotecas. </details>\n",
        "\n",
        "\n"
      ],
      "metadata": {
        "id": "tIHGguRjF6rb"
      }
    },
    {
      "cell_type": "markdown",
      "source": [
        "# Extra 3: Inserir um GIF\n",
        "\n",
        "É possível inserir um GIF em um notebook do Google Colab usando Markdown, da mesma forma que se insere uma imagem estática. Várias opções podem ser vistas [neste link](https://giphy.com/). Você também pode usar um arquivo local se fizer upload para o notebook, mas o link gerado precisa ser público para o GIF aparecer corretamente.\n",
        "\n",
        "\n",
        "Basta usar a sintaxe:\n",
        "`![Descrição](URL_do_GIF)`\n",
        "\n",
        "Exemplo:\n",
        "\n",
        "![Animação engraçada](https://media1.giphy.com/media/v1.Y2lkPTc5MGI3NjExeXZwZm5mcW1pc2VndHp3bzQ2amNsOHg3Y3c4a3JlODM2bmg0ZHRiMyZlcD12MV9pbnRlcm5hbF9naWZfYnlfaWQmY3Q9Zw/EsOAahQCW3dk1MZmQV/giphy.gif)\n",
        "\n",
        "\n",
        "Ou, se preferir centralizado (embora o Markdown do Colab nem sempre respeite isso):\n",
        "\n",
        "<p align=\"center\">\n",
        "  <img src=\"https://media.giphy.com/media/KAq5w47R9rmTuvWOWa/giphy.gif\" alt=\"Python Coding\" width=\"200\"/>\n",
        "</p>"
      ],
      "metadata": {
        "id": "CrMVDaWI_hsh"
      }
    },
    {
      "cell_type": "markdown",
      "source": [
        "# Agora você está pronto para escrever com mais organização e estilo no Colab!\n",
        "Esses recursos ajudam muito a deixar o notebook mais didático, organizado e navegável para todos.\n",
        "\n",
        "\n",
        "<p align=\"center\">\n",
        "  <img src=\"https://media3.giphy.com/media/v1.Y2lkPTc5MGI3NjExNzl6aXR4Mmlma2tqbWlsMmp0ZmZiY3o5Z2oxZmhmOXB2emVwMjZnMSZlcD12MV9pbnRlcm5hbF9naWZfYnlfaWQmY3Q9Zw/f4ztZcdm9Fi90vL4Zd/giphy.gif\" alt=\"Python Coding\" width=\"300\"/>\n",
        "</p>"
      ],
      "metadata": {
        "id": "1PrN_jwq8oHX"
      }
    },
    {
      "cell_type": "code",
      "source": [],
      "metadata": {
        "id": "jHwtqLrOBqFq"
      },
      "execution_count": null,
      "outputs": []
    }
  ]
}