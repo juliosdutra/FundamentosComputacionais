{
  "nbformat": 4,
  "nbformat_minor": 0,
  "metadata": {
    "colab": {
      "provenance": [],
      "toc_visible": true,
      "authorship_tag": "ABX9TyOulqPxxLOhdIllJ4PoKive",
      "include_colab_link": true
    },
    "kernelspec": {
      "name": "python3",
      "display_name": "Python 3"
    },
    "language_info": {
      "name": "python"
    }
  },
  "cells": [
    {
      "cell_type": "markdown",
      "metadata": {
        "id": "view-in-github",
        "colab_type": "text"
      },
      "source": [
        "<a href=\"https://colab.research.google.com/github/juliosdutra/FundamentosComputacionais/blob/main/Mini_Manual_Markdown.ipynb\" target=\"_parent\"><img src=\"https://colab.research.google.com/assets/colab-badge.svg\" alt=\"Open In Colab\"/></a>"
      ]
    },
    {
      "cell_type": "markdown",
      "source": [
        "# 📖 Mini Manual de Markdown"
      ],
      "metadata": {
        "id": "OUZoeuj29AjW"
      }
    },
    {
      "cell_type": "markdown",
      "source": [
        "# 1. Títulos\n",
        "Use `#`, `##`, `###` para criar títulos de diferentes níveis.\n",
        "\n",
        "# Título Principal\n",
        "## Subtítulo\n",
        "### Seção menor"
      ],
      "metadata": {
        "id": "f6f51VqS9_xn"
      }
    },
    {
      "cell_type": "markdown",
      "source": [
        "# 2. Listas\n",
        "Lista não ordenada\n",
        "- Item 1\n",
        "- Item 2\n",
        "\n",
        "Lista ordenada\n",
        "1. Primeiro\n",
        "2. Segundo"
      ],
      "metadata": {
        "id": "Fp15oqKp-Byv"
      }
    },
    {
      "cell_type": "markdown",
      "source": [
        "# 3. Citações\n",
        "É útil em alguma situações com o sinal `>`:\n",
        "* Destacar trechos importantes, como definições, dicas ou explicações rápidas.\n",
        "* Apresentar falas de autores, livros, normas técnicas, artigos científicos.\n",
        "* Separar observações do restante do texto para facilitar a leitura.\n",
        "* Dar contexto histórico ou evidenciar que aquele trecho veio de outra fonte.\n",
        "\n",
        "Exemplo:\n",
        "> A inteligência é a habilidade de se adaptar às mudanças.  \n",
        "> — Stephen Hawking\n",
        "\n",
        "> ⚡ Dica: Sempre verifique se seus dados estão normalizados antes de treinar uma rede neural.\n",
        "\n",
        "A citação também pode ser ter identação dupla ou mais, acumulando os sinal `>`:\n",
        "> Citação identação simples.\n",
        ">> Citação identação dupla.\n",
        ">>> Citação identação tripla."
      ],
      "metadata": {
        "id": "_uoCRtEa-FOP"
      }
    },
    {
      "cell_type": "markdown",
      "source": [
        "# 4. Blocos de Código\n",
        "` ```python Coloque seu código aqui. ``` `\n",
        "\n",
        "Exemplo real:\n",
        "```python\n",
        "import numpy as np\n",
        "import matplotlib.pyplot as plt\n",
        "\n",
        "x = np.linspace(0, 10, 100)\n",
        "y = np.sin(x)\n",
        "\n",
        "plt.plot(x, y)\n",
        "plt.title(\"Exemplo simples no Colab\")\n",
        "plt.show()\n",
        "\n",
        "```"
      ],
      "metadata": {
        "id": "1RDgI0QN-HuW"
      }
    },
    {
      "cell_type": "markdown",
      "source": [
        "# 5. Ênfase de Texto\n",
        "* **Negrito**: `**texto**`→ **texto**\n",
        "* *Itálico*: `*texto*`→*texto*\n",
        "* ~Tachado~: `~texto~`→~texto~"
      ],
      "metadata": {
        "id": "6ecqpnc_-LG3"
      }
    },
    {
      "cell_type": "markdown",
      "source": [
        "# 6. Linha de Separação\n",
        "Três hífens ou asteriscos criam uma linha horizontal:\n",
        "\n",
        "---"
      ],
      "metadata": {
        "id": "YBGjFBvz-NQL"
      }
    },
    {
      "cell_type": "markdown",
      "source": [
        "# 7.  Links e Imagens\n",
        "\n",
        "**Link**: `[texto](URL)`\n",
        "\n",
        "**Imagem**: `![texto alternativo](URL)`\n",
        "\n",
        "Exemplo:\n",
        "[Visite o Google](https://www.google.com)\n",
        "\n",
        "![Logo Python](https://upload.wikimedia.org/wikipedia/commons/c/c3/Python-logo-notext.svg)"
      ],
      "metadata": {
        "id": "M18U3ZxD-PqL"
      }
    },
    {
      "cell_type": "markdown",
      "source": [
        "# 8. Emojis\n",
        "Você pode adicionar emojis apenas colando emojis diretamente.\n",
        "\n",
        "🚀 🔥 🎯 📚\n",
        "\n",
        "➡️ ⬅️ ⬆️ ⬇️"
      ],
      "metadata": {
        "id": "64IwgQr0-SAG"
      }
    },
    {
      "cell_type": "markdown",
      "source": [
        "# 9. Equações, tabela ou quadros usando código em LaTeX dentro de Markdown\n",
        "\n",
        "Se você está usando um editor Markdown com suporte para LaTeX (como o Jupyter Notebook ou Google Colab, por exemplo), a renderização da equação será feita automaticamente. Pode-se escrever equações entre `$` ou `$$`, este último gera equações centralizadas.\n",
        "\n",
        "**Aqui está um exemplo de equação quadrática:**\n",
        "\n",
        "A equação quadrática é dada por:\n",
        "\n",
        "$ ax^2 + bx + c = 0 $\n",
        "\n",
        "A solução dessa equação é:\n",
        "\n",
        "$$ x = \\frac{-b \\pm \\sqrt{b^2 - 4ac}}{2a} $$\n",
        "\n",
        "**Exemplo de tabela:**\n",
        "\n",
        "| Variável | Descrição                    |\n",
        "|:---------|:-----------------------------|\n",
        "| $a$      | Coeficiente de $x^2$         |\n",
        "| $b$      | Coeficiente de $x$           |\n",
        "| $c$      | Termo constante              |\n",
        "\n",
        "ou então com expressões matemáticas mais elaboradas\n",
        "\n",
        "| Fórmula                               | Significado                           |\n",
        "|:------------------------------------------|:--------------------------------------|\n",
        "| $$x = \\frac{-b \\pm \\sqrt{b^2-4ac}}{2a}$$ | Fórmula de Bhaskara                   |\n",
        "| $$\\Delta = b^2 - 4ac$$                 | Discriminante da equação quadrática   |\n"
      ],
      "metadata": {
        "id": "2U5b02UE-UkG"
      }
    },
    {
      "cell_type": "markdown",
      "source": [
        "# 10. Texto colorido\n",
        "O Markdown puro não suporta mudar cor de texto diretamente.\n",
        "Mas no Google Colab (e no Jupyter Notebook) podemos usar HTML dentro do Markdown para colorir.\n",
        "\n",
        "> 👉 Para colorir um texto, use a tag `<font>` com o atributo `color`.\n",
        "\n",
        "**Exemplos:**\n",
        "\n",
        "<font color='red'>Este texto está em vermelho.</font>\n",
        "\n",
        "<font color='blue'>Este texto está em azul.</font>\n",
        "\n",
        "<font color='green'>Este texto está em verde.</font>\n",
        "\n"
      ],
      "metadata": {
        "id": "kKvVw-OF0l9X"
      }
    },
    {
      "cell_type": "markdown",
      "source": [
        "# ✅ Agora você está pronto para escrever com mais organização e estilo no Google Colab!"
      ],
      "metadata": {
        "id": "1PrN_jwq8oHX"
      }
    },
    {
      "cell_type": "markdown",
      "source": [],
      "metadata": {
        "id": "cbDOvW_0x6b2"
      }
    }
  ]
}