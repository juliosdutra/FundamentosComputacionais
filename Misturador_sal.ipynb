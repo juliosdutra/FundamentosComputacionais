{
  "nbformat": 4,
  "nbformat_minor": 0,
  "metadata": {
    "colab": {
      "provenance": [],
      "authorship_tag": "ABX9TyM9e8AwTQ//XSQEU9ypOZ9O",
      "include_colab_link": true
    },
    "kernelspec": {
      "name": "python3",
      "display_name": "Python 3"
    },
    "language_info": {
      "name": "python"
    }
  },
  "cells": [
    {
      "cell_type": "markdown",
      "metadata": {
        "id": "view-in-github",
        "colab_type": "text"
      },
      "source": [
        "<a href=\"https://colab.research.google.com/github/juliosdutra/FundamentosComputacionais/blob/main/Misturador_sal.ipynb\" target=\"_parent\"><img src=\"https://colab.research.google.com/assets/colab-badge.svg\" alt=\"Open In Colab\"/></a>"
      ]
    },
    {
      "cell_type": "code",
      "execution_count": null,
      "metadata": {
        "id": "jpg9oGpJyhNq"
      },
      "outputs": [],
      "source": [
        "import numpy as np\n",
        "\n",
        "def misturador(FA, xA, FB, xB):\n",
        "    \"\"\"\n",
        "    Calcula a vazão total e a concentração de saída de um misturador em regime estacionário.\n",
        "\n",
        "    Aceita entradas escalares ou arrays NumPy para simulações múltiplas. Realiza validações\n",
        "    de domínio para evitar concentrações fora do intervalo [0, 1], vazões negativas ou\n",
        "    divisão por zero.\n",
        "\n",
        "    Parâmetros:\n",
        "    ----------\n",
        "    FA : float ou array-like\n",
        "        Vazão da corrente A (kg/h). Deve ser >= 0.\n",
        "    xA : float ou array-like\n",
        "        Concentração da espécie na corrente A (fração entre 0 e 1).\n",
        "    FB : float ou array-like\n",
        "        Vazão da corrente B (kg/h). Deve ser >= 0.\n",
        "    xB : float ou array-like\n",
        "        Concentração da espécie na corrente B (fração entre 0 e 1).\n",
        "\n",
        "    Retorno:\n",
        "    -------\n",
        "    dict ou None\n",
        "        Um dicionário com as chaves:\n",
        "            - 'F_total': array ou float com as vazões totais (kg/h)\n",
        "            - 'x_saida': array ou float com as concentrações de saída (fração)\n",
        "        Retorna None se houver erro de validação.\n",
        "\n",
        "    Exceções:\n",
        "    --------\n",
        "    ValueError\n",
        "        É levantado internamente para entradas inválidas (vazão negativa, concentração fora dos limites, etc.),\n",
        "        mas tratado dentro da função com impressão da mensagem de erro.\n",
        "\n",
        "    Exemplos:\n",
        "    --------\n",
        "    >>> misturador(100, 0.10, 50, 0.30)\n",
        "    {'F_total': 150.0, 'x_saida': 0.16666666666666666}\n",
        "\n",
        "    >>> misturador([100, 80], [0.1, 0.2], [50, 60], [0.3, 0.1])\n",
        "    {'F_total': array([150., 140.]), 'x_saida': array([0.16666667, 0.15714286])}\n",
        "    \"\"\"\n",
        "    # Validações das entradas\n",
        "    try:\n",
        "        # Converter entradas para float, caso sejam strings numéricas\n",
        "        FA = np.array(FA, dtype=float)\n",
        "        xA = np.array(xA, dtype=float)\n",
        "        FB = np.array(FB, dtype=float)\n",
        "        xB = np.array(xB, dtype=float)\n",
        "\n",
        "        # Verificar vazões negativas\n",
        "        if np.any(FA < 0) or np.any(FB < 0):\n",
        "            raise ValueError(\"Vazões não podem ser negativas.\")\n",
        "\n",
        "        # Verificar concentrações fora do intervalo [0, 1]\n",
        "        if np.any((xA < 0) | (xA > 1)) or np.any((xB < 0) | (xB > 1)):\n",
        "            raise ValueError(\"Concentrações devem estar entre 0 e 1.\")\n",
        "\n",
        "        # Calcular vazão total\n",
        "        F_total = FA + FB\n",
        "\n",
        "        # Verificar divisão por zero\n",
        "        if np.any(F_total == 0):\n",
        "          raise ValueError(\"Vazão total não pode ser zero.\")\n",
        "\n",
        "        # Calcular concentração de saída\n",
        "        x_saida = (FA * xA + FB * xB) / F_total\n",
        "\n",
        "        # Preparar a saída\n",
        "        resultados = {\"F_total\": F_total, \"x_saida\": x_saida}\n",
        "\n",
        "        return resultados\n",
        "\n",
        "    except ValueError as e:\n",
        "      # Captura erros de validação\n",
        "      print(f\"Erro na entrada: {str(e)}\")\n",
        "      return None\n",
        "\n",
        "\n",
        "def resolve_misturador(FA, xA, FB, xB):\n",
        "    \"\"\"\n",
        "    Executa o cálculo da concentração de saída em um misturador e exibe os resultados.\n",
        "\n",
        "    Esta função utiliza a função `misturador` para calcular a vazão total e a concentração\n",
        "    na saída de um misturador em regime estacionário, com base nas vazões e concentrações\n",
        "    de duas correntes de entrada. Os resultados são impressos no console.\n",
        "\n",
        "    Parâmetros:\n",
        "    ----------\n",
        "    FA : float\n",
        "        Vazão da corrente A (kg/h).\n",
        "    xA : float\n",
        "        Concentração da espécie na corrente A (fração entre 0 e 1).\n",
        "    FB : float\n",
        "        Vazão da corrente B (kg/h).\n",
        "    xB : float\n",
        "        Concentração da espécie na corrente B (fração entre 0 e 1).\n",
        "\n",
        "    Retorno:\n",
        "    -------\n",
        "    None\n",
        "        A função apenas imprime os resultados ou uma mensagem de erro.\n",
        "    \"\"\"\n",
        "    r = misturador(FA, xA, FB, xB)\n",
        "    if r is not None:\n",
        "        print(f\"Vazão total = {r['F_total']:.2f} kg/h, Concentração = {r['x_saida']:.2f}\\n\")\n",
        "    else:\n",
        "        print(\"Erro no cálculo. Verifique as entradas.\\n\")"
      ]
    },
    {
      "cell_type": "code",
      "source": [
        "'''if __name__ == \"__main__\":\n",
        "  FA, xA = 100.0, 0.10\n",
        "  FB, xB = 50, 0.30\n",
        "\n",
        "  resolve_misturador(FA, xA, FB, xB)'''"
      ],
      "metadata": {
        "colab": {
          "base_uri": "https://localhost:8080/"
        },
        "id": "HOF4uAlyy9t5",
        "outputId": "85a80b07-85cf-4fca-efd7-cabaf7cf38c8"
      },
      "execution_count": null,
      "outputs": [
        {
          "output_type": "stream",
          "name": "stdout",
          "text": [
            "Vazão total = 150.00 kg/h, Concentração = 0.17\n",
            "\n"
          ]
        }
      ]
    },
    {
      "cell_type": "markdown",
      "source": [
        "**Como iterar sobre listas ou vetores de entrada?**\n",
        "\n",
        "Ideal para aplicações com múltiplas simulações ou séries de dados experimentais."
      ],
      "metadata": {
        "id": "utJBlwoZ0qVY"
      }
    },
    {
      "cell_type": "code",
      "source": [
        "'''if __name__ == \"__main__\":\n",
        "  # Corrente A\n",
        "  lista_FA = [100, 80, 50, 20, 90, 70]\n",
        "  lista_xA = [0.10, 0.15, 0.20, 0.15, 0.95, 0.30]\n",
        "\n",
        "  # Corrente B\n",
        "  lista_FB = [50, 60, 70, 50, 25, 72]\n",
        "  lista_xB = [0.30, 0.25, 0.15, 0.50, 0.60, 0.45]\n",
        "\n",
        "  result = misturador(lista_FA, lista_xA, lista_FB, lista_xB)\n",
        "\n",
        "  # Transformar o resultado  em uma tabela com pandas:\n",
        "  import pandas as pd\n",
        "\n",
        "  df = pd.DataFrame(result)\n",
        "  df.index += 1  # Começa do 1 em vez de 0\n",
        "  df'''"
      ],
      "metadata": {
        "id": "zbgowz_g0qGB"
      },
      "execution_count": null,
      "outputs": []
    }
  ]
}