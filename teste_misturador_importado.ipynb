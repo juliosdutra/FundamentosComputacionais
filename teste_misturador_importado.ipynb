{
  "nbformat": 4,
  "nbformat_minor": 0,
  "metadata": {
    "colab": {
      "provenance": [],
      "authorship_tag": "ABX9TyMA/Sotf2PZ33fTEQLNEDrV",
      "include_colab_link": true
    },
    "kernelspec": {
      "name": "python3",
      "display_name": "Python 3"
    },
    "language_info": {
      "name": "python"
    }
  },
  "cells": [
    {
      "cell_type": "markdown",
      "metadata": {
        "id": "view-in-github",
        "colab_type": "text"
      },
      "source": [
        "<a href=\"https://colab.research.google.com/github/juliosdutra/FundamentosComputacionais/blob/main/teste_misturador_importado.ipynb\" target=\"_parent\"><img src=\"https://colab.research.google.com/assets/colab-badge.svg\" alt=\"Open In Colab\"/></a>"
      ]
    },
    {
      "cell_type": "markdown",
      "source": [
        "# Este exemplo mostra como importar e reutilizar funções/modelos definidos em outro notebook (.ipynb) hospedado no GitHub. Ideal para manter código organizado e reusável em projetos maiores."
      ],
      "metadata": {
        "id": "ZGdyAliIVZDw"
      }
    },
    {
      "cell_type": "markdown",
      "source": [
        "# Baixando o módulo diretamente do GitHub (use o link RAW do seu .py ou .ipynb)"
      ],
      "metadata": {
        "id": "omwYSHZyTGvJ"
      }
    },
    {
      "cell_type": "code",
      "execution_count": 1,
      "metadata": {
        "id": "g-Y4KoL7SvRS"
      },
      "outputs": [],
      "source": [
        "!wget -q https://raw.githubusercontent.com/juliosdutra/API-ESN/refs/heads/main/misturador_dataclass.ipynb"
      ]
    },
    {
      "cell_type": "markdown",
      "source": [
        "# Rodar o módulo para carregar as funções"
      ],
      "metadata": {
        "id": "jl4y_ACFTZeB"
      }
    },
    {
      "cell_type": "code",
      "source": [
        "%run misturador_dataclass.ipynb"
      ],
      "metadata": {
        "id": "D-wAAZWETbe4"
      },
      "execution_count": 2,
      "outputs": []
    },
    {
      "cell_type": "markdown",
      "source": [
        "# Exibir as funções carregadas"
      ],
      "metadata": {
        "id": "FstSXw_xUUfZ"
      }
    },
    {
      "cell_type": "code",
      "source": [
        "import inspect\n",
        "\n",
        "for name, obj in globals().items():\n",
        "    if inspect.isfunction(obj):\n",
        "        print(name)\n",
        ""
      ],
      "metadata": {
        "colab": {
          "base_uri": "https://localhost:8080/"
        },
        "id": "s9ztQRn4TfEJ",
        "outputId": "bf43ddf8-cfba-48e3-b254-7eaf234acd8e"
      },
      "execution_count": 4,
      "outputs": [
        {
          "output_type": "stream",
          "name": "stdout",
          "text": [
            "dataclass\n",
            "misturador\n"
          ]
        }
      ]
    },
    {
      "cell_type": "code",
      "source": [
        "# Help das funções desejadas\n",
        "help(misturador)"
      ],
      "metadata": {
        "id": "h9brzRQvTkaI"
      },
      "execution_count": null,
      "outputs": []
    },
    {
      "cell_type": "markdown",
      "source": [
        "# verificação rápida após o %run\n",
        "\n",
        "A depender do ambiente, o `%run` pode não executar algumas células corretamente se houver dependências. Uma simples verificação evita falhas silenciosas:"
      ],
      "metadata": {
        "id": "XsxcKuiOVKbw"
      }
    },
    {
      "cell_type": "code",
      "source": [
        "try:\n",
        "    A = Corrente(100, 0.10)\n",
        "except NameError:\n",
        "    print(\"Erro: o objeto Corrente não foi carregado corretamente. Verifique o notebook importado.\")\n"
      ],
      "metadata": {
        "id": "d5wMvD5dVNBy"
      },
      "execution_count": 5,
      "outputs": []
    },
    {
      "cell_type": "markdown",
      "source": [
        "# Importando o conteúdo do módulo"
      ],
      "metadata": {
        "id": "F8TU2gZ_TIog"
      }
    },
    {
      "cell_type": "code",
      "source": [
        "# Teste\n",
        "A = Corrente(100, 0.10)\n",
        "B = Corrente(50, 0.30)\n",
        "\n",
        "F_saida, X_saida = misturador(A, B)\n",
        "\n",
        "print(f\"Vazão de saída: {F_saida:.2f} kg/h\")\n",
        "print(f\"Concentração de sal na saída: {X_saida:.2%}\")"
      ],
      "metadata": {
        "id": "k0sxkGeISzRZ"
      },
      "execution_count": null,
      "outputs": []
    }
  ]
}