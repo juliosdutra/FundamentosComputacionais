{
  "nbformat": 4,
  "nbformat_minor": 0,
  "metadata": {
    "colab": {
      "provenance": [],
      "authorship_tag": "ABX9TyOasD/lCXCTo8HJ9dT2qWVM",
      "include_colab_link": true
    },
    "kernelspec": {
      "name": "python3",
      "display_name": "Python 3"
    },
    "language_info": {
      "name": "python"
    }
  },
  "cells": [
    {
      "cell_type": "markdown",
      "metadata": {
        "id": "view-in-github",
        "colab_type": "text"
      },
      "source": [
        "<a href=\"https://colab.research.google.com/github/juliosdutra/FundamentosComputacionais/blob/main/teste_misturador_importado.ipynb\" target=\"_parent\"><img src=\"https://colab.research.google.com/assets/colab-badge.svg\" alt=\"Open In Colab\"/></a>"
      ]
    },
    {
      "cell_type": "markdown",
      "source": [
        "# Baixando o módulo diretamente do GitHub (use o link RAW do seu .py ou .ipynb)"
      ],
      "metadata": {
        "id": "omwYSHZyTGvJ"
      }
    },
    {
      "cell_type": "code",
      "execution_count": 1,
      "metadata": {
        "id": "g-Y4KoL7SvRS"
      },
      "outputs": [],
      "source": [
        "!wget -q https://raw.githubusercontent.com/juliosdutra/API-ESN/refs/heads/main/misturador_dataclass.ipynb"
      ]
    },
    {
      "cell_type": "markdown",
      "source": [
        "# Rodar o módulo para carregar as funções"
      ],
      "metadata": {
        "id": "jl4y_ACFTZeB"
      }
    },
    {
      "cell_type": "code",
      "source": [
        "%run misturador_dataclass.ipynb"
      ],
      "metadata": {
        "id": "D-wAAZWETbe4"
      },
      "execution_count": 2,
      "outputs": []
    },
    {
      "cell_type": "markdown",
      "source": [
        "# Exibir as funções carregadas"
      ],
      "metadata": {
        "id": "FstSXw_xUUfZ"
      }
    },
    {
      "cell_type": "code",
      "source": [
        "import inspect\n",
        "\n",
        "for name, obj in globals().items():\n",
        "    if inspect.isfunction(obj):\n",
        "        print(name)\n",
        ""
      ],
      "metadata": {
        "colab": {
          "base_uri": "https://localhost:8080/",
          "height": 211
        },
        "id": "s9ztQRn4TfEJ",
        "outputId": "de101577-e84d-41d9-b872-e54d73878c58"
      },
      "execution_count": 3,
      "outputs": [
        {
          "output_type": "error",
          "ename": "RuntimeError",
          "evalue": "dictionary changed size during iteration",
          "traceback": [
            "\u001b[0;31m---------------------------------------------------------------------------\u001b[0m",
            "\u001b[0;31mRuntimeError\u001b[0m                              Traceback (most recent call last)",
            "\u001b[0;32m/tmp/ipython-input-3-3715988823.py\u001b[0m in \u001b[0;36m<cell line: 0>\u001b[0;34m()\u001b[0m\n\u001b[1;32m      1\u001b[0m \u001b[0;32mimport\u001b[0m \u001b[0minspect\u001b[0m\u001b[0;34m\u001b[0m\u001b[0;34m\u001b[0m\u001b[0m\n\u001b[1;32m      2\u001b[0m \u001b[0;34m\u001b[0m\u001b[0m\n\u001b[0;32m----> 3\u001b[0;31m \u001b[0;32mfor\u001b[0m \u001b[0mname\u001b[0m\u001b[0;34m,\u001b[0m \u001b[0mobj\u001b[0m \u001b[0;32min\u001b[0m \u001b[0mglobals\u001b[0m\u001b[0;34m(\u001b[0m\u001b[0;34m)\u001b[0m\u001b[0;34m.\u001b[0m\u001b[0mitems\u001b[0m\u001b[0;34m(\u001b[0m\u001b[0;34m)\u001b[0m\u001b[0;34m:\u001b[0m\u001b[0;34m\u001b[0m\u001b[0;34m\u001b[0m\u001b[0m\n\u001b[0m\u001b[1;32m      4\u001b[0m     \u001b[0;32mif\u001b[0m \u001b[0minspect\u001b[0m\u001b[0;34m.\u001b[0m\u001b[0misfunction\u001b[0m\u001b[0;34m(\u001b[0m\u001b[0mobj\u001b[0m\u001b[0;34m)\u001b[0m\u001b[0;34m:\u001b[0m\u001b[0;34m\u001b[0m\u001b[0;34m\u001b[0m\u001b[0m\n\u001b[1;32m      5\u001b[0m         \u001b[0mprint\u001b[0m\u001b[0;34m(\u001b[0m\u001b[0mname\u001b[0m\u001b[0;34m)\u001b[0m\u001b[0;34m\u001b[0m\u001b[0;34m\u001b[0m\u001b[0m\n",
            "\u001b[0;31mRuntimeError\u001b[0m: dictionary changed size during iteration"
          ]
        }
      ]
    },
    {
      "cell_type": "code",
      "source": [
        "# Help das funções desejadas\n",
        "help(misturador)"
      ],
      "metadata": {
        "id": "h9brzRQvTkaI"
      },
      "execution_count": null,
      "outputs": []
    },
    {
      "cell_type": "markdown",
      "source": [
        "# Importando o conteúdo do módulo"
      ],
      "metadata": {
        "id": "F8TU2gZ_TIog"
      }
    },
    {
      "cell_type": "code",
      "source": [
        "# Teste\n",
        "A = Corrente(100, 0.10)\n",
        "B = Corrente(50, 0.30)\n",
        "\n",
        "F_saida, X_saida = misturador(A, B)\n",
        "\n",
        "print(f\"Vazão de saída: {F_saida:.2f} kg/h\")\n",
        "print(f\"Concentração de sal na saída: {X_saida:.2%}\")"
      ],
      "metadata": {
        "id": "k0sxkGeISzRZ"
      },
      "execution_count": null,
      "outputs": []
    }
  ]
}