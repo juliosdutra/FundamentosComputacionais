{
  "nbformat": 4,
  "nbformat_minor": 0,
  "metadata": {
    "colab": {
      "provenance": [],
      "authorship_tag": "ABX9TyObTrLroiMm1u6wcQ3PfZ1W",
      "include_colab_link": true
    },
    "kernelspec": {
      "name": "python3",
      "display_name": "Python 3"
    },
    "language_info": {
      "name": "python"
    }
  },
  "cells": [
    {
      "cell_type": "markdown",
      "metadata": {
        "id": "view-in-github",
        "colab_type": "text"
      },
      "source": [
        "<a href=\"https://colab.research.google.com/github/juliosdutra/FundamentosComputacionais/blob/main/Estruturas_basicas.ipynb\" target=\"_parent\"><img src=\"https://colab.research.google.com/assets/colab-badge.svg\" alt=\"Open In Colab\"/></a>"
      ]
    },
    {
      "cell_type": "markdown",
      "source": [
        "# Estruturas de Programação\n",
        "\n",
        "No Python (e em qualquer linguagem de programação), estruturas de programação são os blocos fundamentais usados para controlar o fluxo e a organização do código. Elas permitem:\n",
        "\n",
        "* **Importar bibliotecas (com import, para reutilizar código existente)**\n",
        "\n",
        "* **Armazenar dados (com variáveis)**,\n",
        "\n",
        "* Tomar decisões (com estruturas condicionais),\n",
        "\n",
        "* Executar tarefas repetidamente (com laços de repetição),\n",
        "\n",
        "*  Organizar o código em partes reutilizáveis (com funções)."
      ],
      "metadata": {
        "id": "qvI6r39ul7nm"
      }
    },
    {
      "cell_type": "markdown",
      "source": [
        "Por hora, vamos focar nos dois primeiros itens."
      ],
      "metadata": {
        "id": "EAudWbut-8iz"
      }
    },
    {
      "cell_type": "markdown",
      "source": [
        "## Importar bibliotecas"
      ],
      "metadata": {
        "id": "GojRj3ILwE6K"
      }
    },
    {
      "cell_type": "code",
      "source": [
        "# Importando as bibiliotecas padrão\n",
        "import numpy as np\n",
        "import matplotlib.pyplot as plt\n",
        "import pandas as pd\n",
        "from scipy import linalg"
      ],
      "metadata": {
        "id": "mo1CZwrqwHrJ"
      },
      "execution_count": 131,
      "outputs": []
    },
    {
      "cell_type": "code",
      "source": [
        "# Instalando uma biblioteca e em seguida importar\n",
        "!pip install -qq control\n",
        "import control as ct"
      ],
      "metadata": {
        "id": "1uPKSpSvwcAr"
      },
      "execution_count": 132,
      "outputs": []
    },
    {
      "cell_type": "code",
      "source": [
        "# Funções matemáticas\n",
        "\n",
        "print(np.pi)            # pi\n",
        "print(np.exp(1))        # e\n",
        "\n",
        "print(5 % 2)\n",
        "\n",
        "print(np.random.rand(1))\n",
        "print(np.random.sample(5))"
      ],
      "metadata": {
        "colab": {
          "base_uri": "https://localhost:8080/"
        },
        "id": "uqs_CgG4_5-M",
        "outputId": "96b7b53b-7ead-4349-abf4-a4351dc2db0d"
      },
      "execution_count": 190,
      "outputs": [
        {
          "output_type": "stream",
          "name": "stdout",
          "text": [
            "3.141592653589793\n",
            "2.718281828459045\n",
            "1\n",
            "[0.48883017]\n",
            "[0.7646054  0.30445988 0.36545666 0.5876934  0.70583785]\n"
          ]
        }
      ]
    },
    {
      "cell_type": "markdown",
      "source": [
        "## Atribuição de variáveis"
      ],
      "metadata": {
        "id": "KwyZD0iJLIBy"
      }
    },
    {
      "cell_type": "code",
      "source": [
        "# atribuição simples\n",
        "x = 3.14\n",
        "\n",
        "# atribuição ao mesmo valor\n",
        "a = b = c = 5\n",
        "\n",
        "# atribuição múltipla\n",
        "Kc, Ki, tipo = -0.9, 10, \"PI\"\n",
        "\n",
        "# Imprimir os valores\n",
        "print(\"x =\", x)\n",
        "print(\"a =\", a, \"b =\", b, \"c =\", c)\n",
        "print(\"Kc =\", Kc, \"Ki =\", Ki, \"tipo =\", tipo)"
      ],
      "metadata": {
        "colab": {
          "base_uri": "https://localhost:8080/"
        },
        "id": "S_V84r9iLQF1",
        "outputId": "328aa9cb-152c-44f0-b0a0-c91b8be81d2b"
      },
      "execution_count": null,
      "outputs": [
        {
          "output_type": "stream",
          "name": "stdout",
          "text": [
            "x = 3.14\n",
            "a = 5 b = 5 c = 5\n",
            "Kc = -0.9 Ki = 10 tipo = PI\n"
          ]
        }
      ]
    },
    {
      "cell_type": "code",
      "source": [
        "# troca de valores\n",
        "a, x = x, a\n",
        "print(\"a =\", a, \"x =\", x)"
      ],
      "metadata": {
        "colab": {
          "base_uri": "https://localhost:8080/"
        },
        "id": "EYXl0tHAMTBz",
        "outputId": "f22c5db9-9f2c-4db6-ddd6-71151c92e645"
      },
      "execution_count": null,
      "outputs": [
        {
          "output_type": "stream",
          "name": "stdout",
          "text": [
            "a = 3.14 x = 5\n"
          ]
        }
      ]
    },
    {
      "cell_type": "code",
      "source": [
        "# descompactação de sequências em um item ou lista\n",
        "lista = [1, 2, 3, 4, 5]\n",
        "r, *s = lista\n",
        "*v, w = lista\n",
        "\n",
        "print(\"r =\", r, \"s =\", s)\n",
        "print(\"v =\", v, \"w =\", w)"
      ],
      "metadata": {
        "colab": {
          "base_uri": "https://localhost:8080/"
        },
        "id": "bybVW9v2MYXa",
        "outputId": "0392a2a7-4baa-421f-c320-859ee0efdbef"
      },
      "execution_count": null,
      "outputs": [
        {
          "output_type": "stream",
          "name": "stdout",
          "text": [
            "r = 1 s = [2, 3, 4, 5]\n",
            "v = [1, 2, 3, 4] w = 5\n"
          ]
        }
      ]
    },
    {
      "cell_type": "code",
      "source": [
        "# incremento de um valor\n",
        "x += 1\n",
        "print(\"x =\", x)"
      ],
      "metadata": {
        "colab": {
          "base_uri": "https://localhost:8080/"
        },
        "id": "5b8Q_BUfM4w6",
        "outputId": "3a934d96-c0dd-4b44-e4c2-5be44eec01d8"
      },
      "execution_count": null,
      "outputs": [
        {
          "output_type": "stream",
          "name": "stdout",
          "text": [
            "x = 6\n"
          ]
        }
      ]
    },
    {
      "cell_type": "markdown",
      "source": [
        "## Tipos de dados"
      ],
      "metadata": {
        "id": "kT6s7nbZmKp-"
      }
    },
    {
      "cell_type": "markdown",
      "source": [
        "### Dadosprimitivos"
      ],
      "metadata": {
        "id": "rLV6BNuEJVLw"
      }
    },
    {
      "cell_type": "code",
      "execution_count": null,
      "metadata": {
        "id": "zAqAKmmTl0Gw"
      },
      "outputs": [],
      "source": [
        "inteiro = 10\n",
        "real = 3.14\n",
        "complexo = 2 + 3j\n",
        "string = \"Olá, mundo!\"\n",
        "booleano = True  # ou False"
      ]
    },
    {
      "cell_type": "code",
      "source": [
        "NumeroInteiro = int(3.14)\n",
        "NumeroReal = float(1)\n",
        "NumeroComplexo = complex(5,1.15)\n",
        "Caracteres = str(2025)\n",
        "Verificador = bool(0)\n",
        "\n",
        "print('NumeroInteiro = ', NumeroInteiro, type(NumeroInteiro))\n",
        "print('NumeroReal = ', NumeroReal, type(NumeroReal))\n",
        "print('NumeroComplexo = ', NumeroComplexo, type(NumeroComplexo))\n",
        "print('Caracteres = ', Caracteres, type(Caracteres))\n",
        "print('Verificador = ', Verificador, type(Verificador))"
      ],
      "metadata": {
        "colab": {
          "base_uri": "https://localhost:8080/"
        },
        "id": "sxr6Iv9mPymV",
        "outputId": "332075d4-a037-44ba-c9be-77559dac4b69"
      },
      "execution_count": null,
      "outputs": [
        {
          "output_type": "stream",
          "name": "stdout",
          "text": [
            "NumeroInteiro =  3 <class 'int'>\n",
            "NumeroReal =  1.0 <class 'float'>\n",
            "NumeroComplexo =  (5+1.15j) <class 'complex'>\n",
            "Caracteres =  2025 <class 'str'>\n",
            "Verificador =  False <class 'bool'>\n"
          ]
        }
      ]
    },
    {
      "cell_type": "markdown",
      "source": [
        "Aqui estão alguns exemplos para ilustrar a soma de inteiros, multiplicação de floats e concatenação de strings:"
      ],
      "metadata": {
        "id": "eDOV14T8CpjO"
      }
    },
    {
      "cell_type": "code",
      "source": [
        "# Soma de inteiros (int):\n",
        "inteiro1 = 10\n",
        "inteiro2 = 5\n",
        "soma = inteiro1 + inteiro2\n",
        "print(\"A soma dos inteiros é:\", soma)\n",
        "# Saída: A soma dos inteiros é: 15"
      ],
      "metadata": {
        "colab": {
          "base_uri": "https://localhost:8080/"
        },
        "id": "DR4Jn3XpCrif",
        "outputId": "10b5a4a8-bda0-4058-a92e-a83c2ca79d5f"
      },
      "execution_count": null,
      "outputs": [
        {
          "output_type": "stream",
          "name": "stdout",
          "text": [
            "A soma dos inteiros é: 15\n"
          ]
        }
      ]
    },
    {
      "cell_type": "code",
      "source": [
        "# Multiplicação de reais (float):\n",
        "real1 = 3.14\n",
        "real2 = 2.5\n",
        "multiplicacao = real1 * real2\n",
        "print(\"A multiplicação dos floats é:\", multiplicacao)\n",
        "# Saída: A multiplicação dos floats é: 7.85"
      ],
      "metadata": {
        "colab": {
          "base_uri": "https://localhost:8080/"
        },
        "id": "q_GmgYDwCtYt",
        "outputId": "097c388b-5d7f-436c-fc3e-96b75e98e195"
      },
      "execution_count": null,
      "outputs": [
        {
          "output_type": "stream",
          "name": "stdout",
          "text": [
            "A multiplicação dos floats é: 7.8500000000000005\n"
          ]
        }
      ]
    },
    {
      "cell_type": "markdown",
      "source": [
        "A soma entre um inteiro e um float resulta em um float,pois a operação entre tipos mistos converte o inteiro para float para garantir maior precisão."
      ],
      "metadata": {
        "id": "IojSq9iMFLx3"
      }
    },
    {
      "cell_type": "code",
      "source": [
        "# Definindo variáveis\n",
        "inteiro = 1\n",
        "real = 3.14\n",
        "print(\"O resultado da soma é:\", inteiro+real)\n",
        "print(\"O resultado da multiplicação é:\", inteiro*real)\n",
        "print(\"O resultado da pontência é:\", inteiro**real)"
      ],
      "metadata": {
        "colab": {
          "base_uri": "https://localhost:8080/"
        },
        "id": "F9EmDfgBELbP",
        "outputId": "5c2b923d-1c0e-4985-ca84-f9cc5b8829c6"
      },
      "execution_count": null,
      "outputs": [
        {
          "output_type": "stream",
          "name": "stdout",
          "text": [
            "O resultado da soma é: 4.140000000000001\n",
            "O resultado da multiplicação é: 3.14\n",
            "O resultado da pontência é: 1.0\n"
          ]
        }
      ]
    },
    {
      "cell_type": "code",
      "source": [
        "# Concatenação de strings (str):\n",
        "# Solicitar nome do usuário\n",
        "nome = \"Ana Maria\"\n",
        "\n",
        "# Solicitar idade do usuário\n",
        "idade = \"23\"\n",
        "\n",
        "# Criar uma mensagem usando concatenação\n",
        "mensagem = \"Olá, \" + nome + \"! Você tem \" + str(idade) + \" anos.\"\n",
        "\n",
        "# Alternativa com formatação f-string (mais elegante)\n",
        "mensagem_formatada = f\"Olá, {nome}! Você tem {idade} anos.\"\n",
        "\n",
        "# Exibir as mensagens\n",
        "print(mensagem)\n",
        "print(mensagem_formatada)"
      ],
      "metadata": {
        "colab": {
          "base_uri": "https://localhost:8080/"
        },
        "id": "V8GF8WgfCwjW",
        "outputId": "df268a71-a4aa-45fb-a5a6-e9b80cb9cfb5"
      },
      "execution_count": null,
      "outputs": [
        {
          "output_type": "stream",
          "name": "stdout",
          "text": [
            "Olá, Ana Maria! Você tem 23 anos.\n",
            "Olá, Ana Maria! Você tem 23 anos.\n"
          ]
        }
      ]
    },
    {
      "cell_type": "markdown",
      "source": [
        "Resumo sobre os métodos para usar com strings:"
      ],
      "metadata": {
        "id": "NstzyLHdFlvw"
      }
    },
    {
      "cell_type": "code",
      "source": [
        "texto = \"Olá, Mundo! Mundo!\"\n",
        "\n",
        "print('Texto em letras maiúsculas:', texto.upper())\n",
        "print('Texto em letras maiúsculas:', texto.lower())\n",
        "print('Total de caracteres:', len(texto))\n",
        "print('Total de ocorrências de Mundo:', texto.count('Mundo'))"
      ],
      "metadata": {
        "id": "TwKQHV8DFr4n"
      },
      "execution_count": null,
      "outputs": []
    },
    {
      "cell_type": "markdown",
      "source": [
        "### Estruturas Compostas\n"
      ],
      "metadata": {
        "id": "CHxYCpSOJQmg"
      }
    },
    {
      "cell_type": "code",
      "source": [
        "# Lista de strings\n",
        "composto = ['CO2', 'H20', 'N2']\n",
        "\n",
        "# Lista numérica\n",
        "analise = [46, 18, 28]\n",
        "\n",
        "print('Número de compostos = ', len(composto))\n",
        "print('Lista de compostos = ', composto)\n",
        "print('Dados de analise = ', analise)"
      ],
      "metadata": {
        "colab": {
          "base_uri": "https://localhost:8080/"
        },
        "id": "49lpOIxEeN4N",
        "outputId": "9287178a-e0d7-41f5-e119-9de0e4a99804"
      },
      "execution_count": 141,
      "outputs": [
        {
          "output_type": "stream",
          "name": "stdout",
          "text": [
            "Número de compostos =  3\n",
            "Lista de compostos =  ['CO2', 'H20', 'N2']\n",
            "Dados de analise =  [46, 18, 28]\n"
          ]
        }
      ]
    },
    {
      "cell_type": "code",
      "source": [
        "# Mapeamento (associação) entre as duas listas\n",
        "map = zip(composto, analise)\n",
        "\n",
        "# Geração automática de um dicionário\n",
        "massa = dict(map)\n",
        "\n",
        "massa['CO2']"
      ],
      "metadata": {
        "colab": {
          "base_uri": "https://localhost:8080/"
        },
        "id": "e26qp4uxzfHV",
        "outputId": "cd5d0ea4-6472-4aaa-fd4a-811e1cdae56c"
      },
      "execution_count": 139,
      "outputs": [
        {
          "output_type": "execute_result",
          "data": {
            "text/plain": [
              "46"
            ]
          },
          "metadata": {},
          "execution_count": 139
        }
      ]
    },
    {
      "cell_type": "code",
      "source": [
        "# Lista\n",
        "reatores = [\"CSTR\", \"PFR\", \"Batch\"]\n",
        "print('Lista 0:', reatores)\n",
        "\n",
        "# Adicionar um novo tipo de reator, o \"UASB\", à lista.\n",
        "reatores.append(\"UASB\")\n",
        "print('Lista 1:', reatores)\n",
        "\n",
        "# Adicionar um outro tipo de reator, o \"PBR\", antes da posição 1.\n",
        "reatores.insert(1, \"PBR\")\n",
        "print('Lista 2:', reatores)\n",
        "\n",
        "# Remover o tipo de reator \"PFR\" da lista.\n",
        "reatores.remove(\"PFR\")\n",
        "print('Lista 3:', reatores)\n",
        "\n",
        "# Remover o tipo de reator \"CSTR\" da lista.\n",
        "reatores.pop(0)\n",
        "print('Lista 4:', reatores)"
      ],
      "metadata": {
        "id": "11zZPYdYJOpp",
        "colab": {
          "base_uri": "https://localhost:8080/"
        },
        "outputId": "c3101cf6-5c20-4a67-dbd9-523cb7c35e41"
      },
      "execution_count": 121,
      "outputs": [
        {
          "output_type": "stream",
          "name": "stdout",
          "text": [
            "Lista 0: ['CSTR', 'PFR', 'Batch']\n",
            "Lista 1: ['CSTR', 'PFR', 'Batch', 'UASB']\n",
            "Lista 2: ['CSTR', 'PBR', 'PFR', 'Batch', 'UASB']\n",
            "Lista 3: ['CSTR', 'PBR', 'Batch', 'UASB']\n",
            "Lista 4: ['PBR', 'Batch', 'UASB']\n"
          ]
        }
      ]
    },
    {
      "cell_type": "markdown",
      "source": [
        "Arrays (vetores e matrizes)"
      ],
      "metadata": {
        "id": "f-nAnbaUz-rc"
      }
    },
    {
      "cell_type": "code",
      "source": [
        "import numpy as np\n",
        "\n",
        "v = np.array([1 ,2 ,3])\n",
        "w = np.array([4, 5 , 6])\n",
        "\n",
        "print('Vetor v = ', v)\n",
        "print('Dimensão de v =', v.shape)\n",
        "print('Tipo de dado = ', type(v))"
      ],
      "metadata": {
        "id": "SRwNThfcCm3e",
        "colab": {
          "base_uri": "https://localhost:8080/"
        },
        "outputId": "d8161d0d-2c2d-4b31-a623-9a2525664a9c"
      },
      "execution_count": 149,
      "outputs": [
        {
          "output_type": "stream",
          "name": "stdout",
          "text": [
            "Vetor v =  [1 2 3]\n",
            "Dimensão de v = (3,)\n",
            "Tipo de dado =  <class 'numpy.ndarray'>\n"
          ]
        }
      ]
    },
    {
      "cell_type": "code",
      "source": [
        "# Concatenar vetores\n",
        "v0 = np.array([-1, 0])\n",
        "v_aumentado = np.hstack([v, v0])\n",
        "\n",
        "print(v_aumentado)\n",
        "print('Dimensão nova =', v_aumentado.shape)"
      ],
      "metadata": {
        "colab": {
          "base_uri": "https://localhost:8080/"
        },
        "id": "q-ef4WFh0xJt",
        "outputId": "a2f30156-c461-48aa-9800-90eb4f6446d3"
      },
      "execution_count": 153,
      "outputs": [
        {
          "output_type": "stream",
          "name": "stdout",
          "text": [
            "[ 1  2  3 -1  0]\n",
            "Dimensão nova = (5,)\n"
          ]
        }
      ]
    },
    {
      "cell_type": "code",
      "source": [
        "v2 = np.array([10, 100, 1000])\n",
        "matriz_v = np.vstack([v, v2])\n",
        "\n",
        "print(matriz_v)\n",
        "print('Dimensão da matriz =', matriz_v.shape)"
      ],
      "metadata": {
        "colab": {
          "base_uri": "https://localhost:8080/"
        },
        "id": "q_4ezhxC1GIk",
        "outputId": "53ca59d1-a410-4fdb-e534-f46f653cb509"
      },
      "execution_count": 154,
      "outputs": [
        {
          "output_type": "stream",
          "name": "stdout",
          "text": [
            "[[   1    2    3]\n",
            " [  10  100 1000]]\n",
            "Dimensão da matriz = (2, 3)\n"
          ]
        }
      ]
    },
    {
      "cell_type": "code",
      "source": [
        "# Importando as bibliotecas necessárias\n",
        "import numpy as np\n",
        "from scipy.linalg import det\n",
        "\n",
        "# Criando a matriz A\n",
        "A = np.array([ [1 , 2, 3],\n",
        "               [0 ,-1, 1],\n",
        "               [5, 0, 4]])\n",
        "\n",
        "print(\"Matriz A = \\n\", A)\n",
        "print('Dimensão da matriz =', A.shape)\n",
        "print('Determinando da matriz =', det(A))"
      ],
      "metadata": {
        "colab": {
          "base_uri": "https://localhost:8080/"
        },
        "id": "TouzlKIH3jZ-",
        "outputId": "518b6754-b537-4e84-b671-ce0ba1365911"
      },
      "execution_count": 161,
      "outputs": [
        {
          "output_type": "stream",
          "name": "stdout",
          "text": [
            "Matriz A = \n",
            " [[ 1  2  3]\n",
            " [ 0 -1  1]\n",
            " [ 5  0  4]]\n",
            "Dimensão da matriz = (3, 3)\n",
            "Determinando da matriz = 21.0\n"
          ]
        }
      ]
    },
    {
      "cell_type": "markdown",
      "source": [
        "Operação com escalares e outros vetores/matrizes\n"
      ],
      "metadata": {
        "id": "nXEeotuF4xTe"
      }
    },
    {
      "cell_type": "code",
      "source": [
        "v1 = np.array([1, 2, 3], dtype='float')\n",
        "\n",
        "v2 = 3*v1 +1\n",
        "\n",
        "v2"
      ],
      "metadata": {
        "colab": {
          "base_uri": "https://localhost:8080/"
        },
        "id": "6lPgrTgR3tO3",
        "outputId": "47e484c5-242b-4821-fa9c-c1e0e1fd0e49"
      },
      "execution_count": 166,
      "outputs": [
        {
          "output_type": "execute_result",
          "data": {
            "text/plain": [
              "array([ 4.,  7., 10.])"
            ]
          },
          "metadata": {},
          "execution_count": 166
        }
      ]
    },
    {
      "cell_type": "code",
      "source": [
        "A = np.array([ [1 , 2, 3],\n",
        "               [0 ,-1, 1],\n",
        "               [5, 0, 4]])\n",
        "\n",
        "B = A**2 - 3*A +1\n",
        "\n",
        "B"
      ],
      "metadata": {
        "colab": {
          "base_uri": "https://localhost:8080/"
        },
        "id": "4x5l3UAD492P",
        "outputId": "992d7736-269d-41b4-9934-91c4ac4f17af"
      },
      "execution_count": 167,
      "outputs": [
        {
          "output_type": "execute_result",
          "data": {
            "text/plain": [
              "array([[-1, -1,  1],\n",
              "       [ 1,  5, -1],\n",
              "       [11,  1,  5]])"
            ]
          },
          "metadata": {},
          "execution_count": 167
        }
      ]
    },
    {
      "cell_type": "code",
      "source": [
        "C = A @ v1\n",
        "C"
      ],
      "metadata": {
        "colab": {
          "base_uri": "https://localhost:8080/"
        },
        "id": "2TffRsPM53Ao",
        "outputId": "c902c664-1096-4d47-ae4f-60b3fc60b55f"
      },
      "execution_count": 168,
      "outputs": [
        {
          "output_type": "execute_result",
          "data": {
            "text/plain": [
              "array([14.,  1., 17.])"
            ]
          },
          "metadata": {},
          "execution_count": 168
        }
      ]
    },
    {
      "cell_type": "markdown",
      "source": [
        "Sequência de números"
      ],
      "metadata": {
        "id": "UgthrUp68UOc"
      }
    },
    {
      "cell_type": "code",
      "source": [
        "# range(início, fim, passo)\n",
        "sequencia1 = range(0,10) # de 0 a 10 (exclusivo), com passo 1\n",
        "print(list(sequencia1))\n",
        "\n",
        "sequencia2 = range(0,10,2) # de 0 a 10 (exclusivo), com passo 2\n",
        "print(list(sequencia2))"
      ],
      "metadata": {
        "colab": {
          "base_uri": "https://localhost:8080/"
        },
        "id": "HNJ6HKtE56MH",
        "outputId": "50e9571d-e2e3-4d0a-988b-d25601c3b961"
      },
      "execution_count": 169,
      "outputs": [
        {
          "output_type": "stream",
          "name": "stdout",
          "text": [
            "[0, 1, 2, 3, 4, 5, 6, 7, 8, 9]\n",
            "[0, 2, 4, 6, 8]\n"
          ]
        }
      ]
    },
    {
      "cell_type": "code",
      "source": [
        "np.arange(0,10,2.5)"
      ],
      "metadata": {
        "colab": {
          "base_uri": "https://localhost:8080/"
        },
        "id": "yFSibCEa8Y3c",
        "outputId": "f02db311-625d-4786-a220-8a4677e608cb"
      },
      "execution_count": 171,
      "outputs": [
        {
          "output_type": "execute_result",
          "data": {
            "text/plain": [
              "array([0. , 2.5, 5. , 7.5])"
            ]
          },
          "metadata": {},
          "execution_count": 171
        }
      ]
    },
    {
      "cell_type": "code",
      "source": [
        "np.linspace(0,1,11)"
      ],
      "metadata": {
        "colab": {
          "base_uri": "https://localhost:8080/"
        },
        "id": "3d1KbUbr8bvM",
        "outputId": "fe7160bb-5416-4a3c-8efc-bed4eb033a5f"
      },
      "execution_count": 172,
      "outputs": [
        {
          "output_type": "execute_result",
          "data": {
            "text/plain": [
              "array([0. , 0.1, 0.2, 0.3, 0.4, 0.5, 0.6, 0.7, 0.8, 0.9, 1. ])"
            ]
          },
          "metadata": {},
          "execution_count": 172
        }
      ]
    },
    {
      "cell_type": "markdown",
      "source": [
        "Indexação dos elementos"
      ],
      "metadata": {
        "id": "-o98XX-Y9S18"
      }
    },
    {
      "cell_type": "code",
      "source": [
        "A = np.random.random((3,4))\n",
        "A"
      ],
      "metadata": {
        "colab": {
          "base_uri": "https://localhost:8080/"
        },
        "id": "Qic0bhWA8gSd",
        "outputId": "48727d36-3386-4735-dfec-e5431a2fa98c"
      },
      "execution_count": 179,
      "outputs": [
        {
          "output_type": "execute_result",
          "data": {
            "text/plain": [
              "array([[0.33131038, 0.71755769, 0.60180884, 0.09931208],\n",
              "       [0.84401996, 0.54740509, 0.31605709, 0.05128247],\n",
              "       [0.68857399, 0.58081946, 0.34979214, 0.61374949]])"
            ]
          },
          "metadata": {},
          "execution_count": 179
        }
      ]
    },
    {
      "cell_type": "code",
      "source": [
        "# Elemento A[2,3]\n",
        "A[2,3]"
      ],
      "metadata": {
        "colab": {
          "base_uri": "https://localhost:8080/"
        },
        "id": "oD_FvIp69Y4T",
        "outputId": "67348b85-4d5c-4f7f-c0bf-55cbcff9986d"
      },
      "execution_count": 180,
      "outputs": [
        {
          "output_type": "execute_result",
          "data": {
            "text/plain": [
              "np.float64(0.61374948798518)"
            ]
          },
          "metadata": {},
          "execution_count": 180
        }
      ]
    },
    {
      "cell_type": "code",
      "source": [
        "# Bloco\n",
        "A[1:3,1:4]"
      ],
      "metadata": {
        "colab": {
          "base_uri": "https://localhost:8080/"
        },
        "id": "PgeCIibp9fAH",
        "outputId": "7b864a44-e184-4435-87da-c1f421acb169"
      },
      "execution_count": 181,
      "outputs": [
        {
          "output_type": "execute_result",
          "data": {
            "text/plain": [
              "array([[0.54740509, 0.31605709, 0.05128247],\n",
              "       [0.58081946, 0.34979214, 0.61374949]])"
            ]
          },
          "metadata": {},
          "execution_count": 181
        }
      ]
    },
    {
      "cell_type": "code",
      "source": [
        "# todos elementos da primeira linha\n",
        "A[0,:]"
      ],
      "metadata": {
        "colab": {
          "base_uri": "https://localhost:8080/"
        },
        "id": "0FlxOuuX9qi1",
        "outputId": "57687675-999b-45dd-b79c-4031aef66482"
      },
      "execution_count": 182,
      "outputs": [
        {
          "output_type": "execute_result",
          "data": {
            "text/plain": [
              "array([0.68857399, 0.58081946, 0.34979214, 0.61374949])"
            ]
          },
          "metadata": {},
          "execution_count": 182
        }
      ]
    },
    {
      "cell_type": "code",
      "source": [
        "# todos elementos da última coluna\n",
        "A[:,-1]"
      ],
      "metadata": {
        "colab": {
          "base_uri": "https://localhost:8080/"
        },
        "id": "h4oL__a391RX",
        "outputId": "bd017e18-a544-4d98-e538-6d62aca48f2c"
      },
      "execution_count": 183,
      "outputs": [
        {
          "output_type": "execute_result",
          "data": {
            "text/plain": [
              "array([0.09931208, 0.05128247, 0.61374949])"
            ]
          },
          "metadata": {},
          "execution_count": 183
        }
      ]
    },
    {
      "cell_type": "markdown",
      "source": [
        "Vetorização"
      ],
      "metadata": {
        "id": "lN4Ordwf-ksI"
      }
    },
    {
      "cell_type": "code",
      "source": [
        "A = np.random.rand(2,2)\n",
        "A"
      ],
      "metadata": {
        "colab": {
          "base_uri": "https://localhost:8080/"
        },
        "id": "CsSWGQjz-mJ9",
        "outputId": "c47301c7-2827-4ac3-8e4e-8472a94ee976"
      },
      "execution_count": 186,
      "outputs": [
        {
          "output_type": "execute_result",
          "data": {
            "text/plain": [
              "array([[0.59710538, 0.00608318],\n",
              "       [0.98847236, 0.96489521]])"
            ]
          },
          "metadata": {},
          "execution_count": 186
        }
      ]
    },
    {
      "cell_type": "code",
      "source": [
        "A.flatten()"
      ],
      "metadata": {
        "colab": {
          "base_uri": "https://localhost:8080/"
        },
        "id": "Y336vzYM-rsT",
        "outputId": "435beabb-d7dd-49c9-f2eb-c8c1773c31f5"
      },
      "execution_count": 187,
      "outputs": [
        {
          "output_type": "execute_result",
          "data": {
            "text/plain": [
              "array([0.59710538, 0.00608318, 0.98847236, 0.96489521])"
            ]
          },
          "metadata": {},
          "execution_count": 187
        }
      ]
    },
    {
      "cell_type": "code",
      "source": [
        "A.flatten('F')"
      ],
      "metadata": {
        "colab": {
          "base_uri": "https://localhost:8080/"
        },
        "id": "VyMIXPe6-x4f",
        "outputId": "04c6e75a-d96a-40db-c704-a00350acd6c5"
      },
      "execution_count": 188,
      "outputs": [
        {
          "output_type": "execute_result",
          "data": {
            "text/plain": [
              "array([0.59710538, 0.98847236, 0.00608318, 0.96489521])"
            ]
          },
          "metadata": {},
          "execution_count": 188
        }
      ]
    }
  ]
}