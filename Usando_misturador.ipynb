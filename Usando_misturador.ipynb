{
  "nbformat": 4,
  "nbformat_minor": 0,
  "metadata": {
    "colab": {
      "provenance": [],
      "authorship_tag": "ABX9TyOKaoArMyxI6HIkFLWwmW6J",
      "include_colab_link": true
    },
    "kernelspec": {
      "name": "python3",
      "display_name": "Python 3"
    },
    "language_info": {
      "name": "python"
    }
  },
  "cells": [
    {
      "cell_type": "markdown",
      "metadata": {
        "id": "view-in-github",
        "colab_type": "text"
      },
      "source": [
        "<a href=\"https://colab.research.google.com/github/juliosdutra/FundamentosComputacionais/blob/main/Usando_misturador.ipynb\" target=\"_parent\"><img src=\"https://colab.research.google.com/assets/colab-badge.svg\" alt=\"Open In Colab\"/></a>"
      ]
    },
    {
      "cell_type": "markdown",
      "source": [
        "<left><img src=\"https://github.com/juliosdutra/Controle_de_Processos_UFES/blob/main/imagens/cabe%C3%A7alho-geral.jpg?raw=true\" width=\"700\" height=\"175\">\n",
        "</left>\n"
      ],
      "metadata": {
        "id": "O13RN27m6C2j"
      }
    },
    {
      "cell_type": "markdown",
      "source": [
        "**Este exemplo mostra como importar e reutilizar funções/modelos definidos em outro notebook (.ipynb) hospedado no GitHub. Ideal para manter código organizado e reusável em projetos maiores.**"
      ],
      "metadata": {
        "id": "ZGdyAliIVZDw"
      }
    },
    {
      "cell_type": "markdown",
      "source": [
        "# Baixando o módulo diretamente do GitHub (use o link RAW do seu .py ou .ipynb)"
      ],
      "metadata": {
        "id": "omwYSHZyTGvJ"
      }
    },
    {
      "cell_type": "code",
      "execution_count": 1,
      "metadata": {
        "id": "g-Y4KoL7SvRS"
      },
      "outputs": [],
      "source": [
        "!wget -q https://raw.githubusercontent.com/juliosdutra/FundamentosComputacionais/refs/heads/main/misturador_dataclass.ipynb -O misturador_dataclass.ipynb"
      ]
    },
    {
      "cell_type": "markdown",
      "source": [
        "# Rodar o módulo para carregar as funções"
      ],
      "metadata": {
        "id": "jl4y_ACFTZeB"
      }
    },
    {
      "cell_type": "code",
      "source": [
        "%run misturador_dataclass.ipynb"
      ],
      "metadata": {
        "id": "D-wAAZWETbe4"
      },
      "execution_count": 2,
      "outputs": []
    },
    {
      "cell_type": "markdown",
      "source": [
        "# Exibir as funções carregadas"
      ],
      "metadata": {
        "id": "FstSXw_xUUfZ"
      }
    },
    {
      "cell_type": "code",
      "source": [
        "import inspect\n",
        "\n",
        "for name, obj in globals().items():\n",
        "    if inspect.isfunction(obj):\n",
        "        print(name)"
      ],
      "metadata": {
        "colab": {
          "base_uri": "https://localhost:8080/"
        },
        "id": "s9ztQRn4TfEJ",
        "outputId": "c3364cff-4374-4904-97b0-648a1c240f73"
      },
      "execution_count": 4,
      "outputs": [
        {
          "output_type": "stream",
          "name": "stdout",
          "text": [
            "dataclass\n",
            "misturador\n"
          ]
        }
      ]
    },
    {
      "cell_type": "code",
      "source": [
        "# Help das funções desejadas\n",
        "help(misturador)"
      ],
      "metadata": {
        "id": "h9brzRQvTkaI",
        "colab": {
          "base_uri": "https://localhost:8080/"
        },
        "outputId": "0a5be6e9-5587-4715-a2c9-8c1308945f99"
      },
      "execution_count": 5,
      "outputs": [
        {
          "output_type": "stream",
          "name": "stdout",
          "text": [
            "Help on function misturador in module __main__:\n",
            "\n",
            "misturador(lista1: List[__main__.Corrente], lista2: List[__main__.Corrente]) -> List[Tuple[float, float]]\n",
            "    Calcula a vazão e concentração de sal na corrente de saída de um misturador.\n",
            "    \n",
            "    Parâmetros:\n",
            "        c1 (Corrente): Primeira corrente de entrada.\n",
            "        c2 (Corrente): Segunda corrente de entrada.\n",
            "    \n",
            "    Retorna:\n",
            "        tuple: (F_out, X_out)\n",
            "            - F_out (float): Vazão mássica total na saída (kg/h).\n",
            "            - X_out (float): Concentração de sal na saída (fração mássica).\n",
            "\n"
          ]
        }
      ]
    },
    {
      "cell_type": "markdown",
      "source": [
        "# verificação rápida após o %run\n",
        "\n",
        "A depender do ambiente, o `%run` pode não executar algumas células corretamente se houver dependências. Uma simples verificação evita falhas silenciosas:"
      ],
      "metadata": {
        "id": "XsxcKuiOVKbw"
      }
    },
    {
      "cell_type": "code",
      "source": [
        "try:\n",
        "    A = Corrente(100, 0.10)\n",
        "    print(A)\n",
        "except NameError:\n",
        "    print(\"Erro: o objeto Corrente não foi carregado corretamente. Verifique o notebook importado.\")\n"
      ],
      "metadata": {
        "id": "d5wMvD5dVNBy",
        "colab": {
          "base_uri": "https://localhost:8080/"
        },
        "outputId": "ef50763a-1564-4786-e483-ff49451422c8"
      },
      "execution_count": 6,
      "outputs": [
        {
          "output_type": "stream",
          "name": "stdout",
          "text": [
            "Corrente(F=100, X=0.1)\n"
          ]
        }
      ]
    },
    {
      "cell_type": "markdown",
      "source": [
        "# Usando o módulo importado"
      ],
      "metadata": {
        "id": "F8TU2gZ_TIog"
      }
    },
    {
      "cell_type": "code",
      "source": [
        "# Teste\n",
        "A = [Corrente(100, 0.10)]\n",
        "B = [Corrente(50, 0.30)]\n",
        "\n",
        "F_saida, X_saida = misturador(A, B)\n",
        "\n",
        "print(f\"Vazão de saída: {F_saida[0]:.2f} kg/h\")\n",
        "print(f\"Concentração de sal na saída: {X_saida[0]:.2%}\")"
      ],
      "metadata": {
        "id": "k0sxkGeISzRZ",
        "colab": {
          "base_uri": "https://localhost:8080/"
        },
        "outputId": "d3974a39-41ca-4e9d-c90e-575898a7e5c0"
      },
      "execution_count": 7,
      "outputs": [
        {
          "output_type": "stream",
          "name": "stdout",
          "text": [
            "Vazão de saída: 150.00 kg/h\n",
            "Concentração de sal na saída: 16.67%\n"
          ]
        }
      ]
    },
    {
      "cell_type": "code",
      "source": [
        "# Testando várias condições\n",
        "A = [Corrente(100, 0.10), Corrente(200, 0.05), Corrente(30, 0.50)]\n",
        "B = [Corrente(50, 0.30), Corrente(25, 0.50), Corrente(70, 0.40)]\n",
        "\n",
        "F_saida, X_saida = misturador(A, B)\n",
        "\n",
        "for i, (F, X) in enumerate(zip(F_saida, X_saida), start=1):\n",
        "    print(f\"Saída {i}: F = {F} kg/h | X = {X:.4f}\")"
      ],
      "metadata": {
        "colab": {
          "base_uri": "https://localhost:8080/"
        },
        "id": "h8hm0zE33mB8",
        "outputId": "dbbdfd89-b152-4469-e723-77d39b1bb0ae"
      },
      "execution_count": 8,
      "outputs": [
        {
          "output_type": "stream",
          "name": "stdout",
          "text": [
            "Saída 1: F = 150 kg/h | X = 0.1667\n",
            "Saída 2: F = 225 kg/h | X = 0.1000\n",
            "Saída 3: F = 100 kg/h | X = 0.4300\n"
          ]
        }
      ]
    }
  ]
}