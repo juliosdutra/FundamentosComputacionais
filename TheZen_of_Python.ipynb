{
  "nbformat": 4,
  "nbformat_minor": 0,
  "metadata": {
    "colab": {
      "provenance": [],
      "authorship_tag": "ABX9TyMNhunXfqMfn5m+dFP6qW6G",
      "include_colab_link": true
    },
    "kernelspec": {
      "name": "python3",
      "display_name": "Python 3"
    },
    "language_info": {
      "name": "python"
    }
  },
  "cells": [
    {
      "cell_type": "markdown",
      "metadata": {
        "id": "view-in-github",
        "colab_type": "text"
      },
      "source": [
        "<a href=\"https://colab.research.google.com/github/juliosdutra/FundamentosComputacionais/blob/main/TheZen_of_Python.ipynb\" target=\"_parent\"><img src=\"https://colab.research.google.com/assets/colab-badge.svg\" alt=\"Open In Colab\"/></a>"
      ]
    },
    {
      "cell_type": "markdown",
      "source": [
        "# Bonito é melhor que feio.\n",
        "\n",
        "Um código bem estruturado e limpo facilita a leitura, manutenção e colaboração.\n",
        "\n",
        "Recomendação: usar identação correta e nomes claros de variáveis.\n",
        "\n",
        "---\n",
        "**Código \"Feio\"**\n",
        "```python\n",
        "l=[10,20,30,40,50];s=0;for i in range(len(l)):s+=l[i];m=s/len(l);print(m)\n",
        "```\n",
        "Problemas:\n",
        "\n",
        "* Nomes de variáveis não descritivos (`l`, `s`, `m`).\n",
        "* Tudo em uma linha, sem espaços ou identação clara.\n",
        "* Difícil de entender rapidamente.\n",
        "\n",
        "---\n",
        "**Código \"Bonito\"**\n",
        "```python\n",
        "numeros = [10, 20, 30, 40, 50]\n",
        "soma = 0\n",
        "\n",
        "for numero in numeros:\n",
        "    soma += numero\n",
        "\n",
        "media = soma / len(numeros)\n",
        "print(f\"A média dos números é: {media}\")\n",
        "```\n",
        "Benefícios:\n",
        "\n",
        "* Nomes claros: `numeros`, `soma`, `media`.\n",
        "* Identação correta e estrutura organizada.\n",
        "* Uso de `f-string` para saída legível.\n",
        "* Fácil de ler, entender e manter."
      ],
      "metadata": {
        "id": "oaBXgdPGQ8aC"
      }
    },
    {
      "cell_type": "markdown",
      "source": [
        "# Simples é melhor que complexo. Complexo é melhor que complicado.\n",
        "\n",
        "Soluções simples são mais fáceis de entender e manter. Se a complexidade é necessária, ela deve ser gerenciável e bem organizada — não confusa.\n",
        "\n",
        "Recomendação: uma função bem dividida em etapas claras é melhor que uma função com lógica difícil de explicar.\n",
        "\n",
        "---\n",
        "**Código Complicado (confuso e desorganizado)**\n",
        "```python\n",
        "def fat(n):return 1 if n==0 else n*fat(n-1)\n",
        "print(fat(5))\n",
        "```\n",
        "Problemas:\n",
        "\n",
        "* Função recursiva escrita de forma compacta, sem clareza.\n",
        "* Nomes de variáveis curtos (`fat`, `n`) e sem contexto.\n",
        "* Difícil de entender à primeira vista, especialmente para iniciantes.\n",
        "* Não lida com casos de erro, como números negativos.\n",
        "\n",
        "---\n",
        "**Código Complexo (mas organizado)**\n",
        "```python\n",
        "def calcular_fatorial(numero):\n",
        "    if not isinstance(numero, int) or numero < 0:\n",
        "        raise ValueError(\"O número deve ser um inteiro não negativo\")\n",
        "    if numero == 0:\n",
        "        return 1\n",
        "    return numero * calcular_fatorial(numero - 1)\n",
        "\n",
        "# Chamada\n",
        "try:\n",
        "    print(calcular_fatorial(5))  # Retorna 120\n",
        "except ValueError as e:\n",
        "    print(e)\n",
        "```\n",
        "\n",
        "Benefícios:\n",
        "\n",
        "* Lógica recursiva mantida, mas clara e bem estruturada.\n",
        "* Nomes descritivos: `calcular_fatorial`, `numero`.\n",
        "* Validação explícita para entradas inválidas.\n",
        "* Complexidade necessária (recursão) é organizada e compreensível.\n",
        "\n",
        "---\n",
        "**Código Simples (quando possível)**\n",
        "```python\n",
        "def calcular_fatorial(numero):\n",
        "    if not isinstance(numero, int) or numero < 0:\n",
        "        raise ValueError(\"O número deve ser um inteiro não negativo\")\n",
        "    resultado = 1\n",
        "    for i in range(1, numero + 1):\n",
        "        resultado *= i\n",
        "    return resultado\n",
        "\n",
        "# Chamada\n",
        "try:\n",
        "    print(calcular_fatorial(5))  # Retorna 120\n",
        "except ValueError as e:\n",
        "    print(e)\n",
        "```\n",
        "Benefícios:\n",
        "\n",
        "* Substitui a recursão por um loop simples, reduzindo a complexidade.\n",
        "* Fácil de entender, mesmo para iniciantes.\n",
        "* Mantém validação e clareza nos nomes.\n",
        "* Ideal quando a simplicidade atende ao objetivo.\n"
      ],
      "metadata": {
        "id": "p82mJd2lTvws"
      }
    },
    {
      "cell_type": "code",
      "execution_count": null,
      "metadata": {
        "id": "TT-Vt1kyQBvt"
      },
      "outputs": [],
      "source": []
    }
  ]
}